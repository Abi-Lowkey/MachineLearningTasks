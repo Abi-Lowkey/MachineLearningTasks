{
  "nbformat": 4,
  "nbformat_minor": 0,
  "metadata": {
    "colab": {
      "provenance": [],
      "authorship_tag": "ABX9TyP2NHcCgDdy7FLE0NhzkC4f",
      "include_colab_link": true
    },
    "kernelspec": {
      "name": "python3",
      "display_name": "Python 3"
    },
    "language_info": {
      "name": "python"
    }
  },
  "cells": [
    {
      "cell_type": "markdown",
      "metadata": {
        "id": "view-in-github",
        "colab_type": "text"
      },
      "source": [
        "<a href=\"https://colab.research.google.com/github/Abi-Lowkey/MachineLearningTasks/blob/main/11thWeekTasks/Classification_dummy_data_%26_model_classification_with_deep_learning_on_heart_dataset.ipynb\" target=\"_parent\"><img src=\"https://colab.research.google.com/assets/colab-badge.svg\" alt=\"Open In Colab\"/></a>"
      ]
    },
    {
      "cell_type": "markdown",
      "source": [
        "Nama : Ketut Satria Wibisana\n",
        "\n",
        "NIM : 1103213148\n",
        "\n",
        "Lecture Week 11 : Classification Dummy data & model classification with deep learning\n",
        "\n",
        "\n",
        "Dataset : heart\n",
        "\n",
        "Dokumentasi ChatGPT :[Link](https://chatgpt.com/share/675c827d-0a10-8005-a0ad-4ca8ba13351c)"
      ],
      "metadata": {
        "id": "o2YmXMCC8LPR"
      }
    },
    {
      "cell_type": "code",
      "execution_count": 1,
      "metadata": {
        "colab": {
          "base_uri": "https://localhost:8080/"
        },
        "id": "mJE5bi5I7Lez",
        "outputId": "1b2155f2-9fd9-4466-b93f-7fe6270d70be"
      },
      "outputs": [
        {
          "output_type": "stream",
          "name": "stdout",
          "text": [
            "Mounted at /content/drive\n"
          ]
        }
      ],
      "source": [
        "# Hubungkan Google Colab dengan Google Drive\n",
        "from google.colab import drive\n",
        "drive.mount('/content/drive')"
      ]
    },
    {
      "cell_type": "markdown",
      "source": [
        "### **#Import Library**"
      ],
      "metadata": {
        "id": "HlTP7kvBEVB0"
      }
    },
    {
      "cell_type": "code",
      "source": [
        "from sklearn.model_selection import train_test_split\n",
        "from sklearn.preprocessing import StandardScaler\n",
        "import pandas as pd\n",
        "import tensorflow as tf\n",
        "from tensorflow.keras.models import Sequential\n",
        "from tensorflow.keras.layers import Dense, Dropout\n",
        "import matplotlib.pyplot as plt\n",
        "import torch\n",
        "from torch.utils.data import DataLoader, TensorDataset\n",
        "import torch.nn as nn\n",
        "import torch.optim as optim\n",
        "import itertools"
      ],
      "metadata": {
        "id": "v7FuO_fy-pg7"
      },
      "execution_count": 35,
      "outputs": []
    },
    {
      "cell_type": "code",
      "source": [
        "# Path ke file dataset di Google Drive\n",
        "file_path = '/content/drive/MyDrive/Dataset/heart.csv'\n",
        "\n",
        "# Contoh: Membaca dataset dengan Pandas\n",
        "data = pd.read_csv(file_path)\n",
        "\n",
        "# Menampilkan beberapa baris pertama dataset\n",
        "print(data.head())\n"
      ],
      "metadata": {
        "colab": {
          "base_uri": "https://localhost:8080/"
        },
        "id": "p_YAlPzJ9WjU",
        "outputId": "50a58206-2e28-4df7-cfe5-0e20fd191dac"
      },
      "execution_count": 7,
      "outputs": [
        {
          "output_type": "stream",
          "name": "stdout",
          "text": [
            "   age  sex  cp  trestbps  chol  fbs  restecg  thalach  exang  oldpeak  slope  \\\n",
            "0   52    1   0       125   212    0        1      168      0      1.0      2   \n",
            "1   53    1   0       140   203    1        0      155      1      3.1      0   \n",
            "2   70    1   0       145   174    0        1      125      1      2.6      0   \n",
            "3   61    1   0       148   203    0        1      161      0      0.0      2   \n",
            "4   62    0   0       138   294    1        1      106      0      1.9      1   \n",
            "\n",
            "   ca  thal  target  \n",
            "0   2     3       0  \n",
            "1   0     3       0  \n",
            "2   0     3       0  \n",
            "3   1     3       0  \n",
            "4   3     2       0  \n"
          ]
        }
      ]
    },
    {
      "cell_type": "markdown",
      "source": [
        "### **#Langkah 1: Membuat Dummy Data**"
      ],
      "metadata": {
        "id": "ldlliVqfEg1_"
      }
    },
    {
      "cell_type": "code",
      "source": [
        "# Memeriksa data duplikat\n",
        "print(\"Jumlah baris sebelum menghapus duplikat:\", data.shape[0])\n",
        "duplicates = data.duplicated()\n",
        "print(\"Jumlah baris duplikat:\", duplicates.sum())"
      ],
      "metadata": {
        "colab": {
          "base_uri": "https://localhost:8080/"
        },
        "id": "2jEt4j579yCa",
        "outputId": "35c23912-743d-45d7-b1a9-56e28d3ed53f"
      },
      "execution_count": 3,
      "outputs": [
        {
          "output_type": "stream",
          "name": "stdout",
          "text": [
            "Jumlah baris sebelum menghapus duplikat: 1025\n",
            "Jumlah baris duplikat: 723\n"
          ]
        }
      ]
    },
    {
      "cell_type": "code",
      "source": [
        "#Membersihkan data yang duplikat\n",
        "data_cleaned = data.drop_duplicates()\n",
        "\n",
        "# Memeriksa ulang setelah membersihkan\n",
        "print(\"\\nJumlah baris setelah menghapus duplikat:\", data_cleaned.shape[0])"
      ],
      "metadata": {
        "colab": {
          "base_uri": "https://localhost:8080/"
        },
        "id": "i5FOm-x29zs5",
        "outputId": "97c0ba24-6c15-480b-829f-b1b70edacd45"
      },
      "execution_count": 5,
      "outputs": [
        {
          "output_type": "stream",
          "name": "stdout",
          "text": [
            "\n",
            "Jumlah baris setelah menghapus duplikat: 302\n"
          ]
        }
      ]
    },
    {
      "cell_type": "code",
      "source": [
        "# Membuat dummy variables untuk kolom kategorikal\n",
        "data_dummies = pd.get_dummies(data, columns=['cp', 'restecg', 'slope', 'thal', 'ca'], drop_first=True)\n"
      ],
      "metadata": {
        "id": "R-f5M6k6967L"
      },
      "execution_count": 8,
      "outputs": []
    },
    {
      "cell_type": "code",
      "source": [
        "# Memisahkan fitur (X) dan target (y)\n",
        "X = data_dummies.drop(columns=['target'])\n",
        "y = data_dummies['target']"
      ],
      "metadata": {
        "id": "SzC6ltA7-w3x"
      },
      "execution_count": 9,
      "outputs": []
    },
    {
      "cell_type": "code",
      "source": [
        "# Normalisasi fitur numerik\n",
        "scaler = StandardScaler()\n",
        "X_scaled = scaler.fit_transform(X)\n"
      ],
      "metadata": {
        "id": "jrJQkxQl-zSI"
      },
      "execution_count": 10,
      "outputs": []
    },
    {
      "cell_type": "code",
      "source": [
        "# Membagi data menjadi training dan testing\n",
        "X_train, X_test, y_train, y_test = train_test_split(X_scaled, y, test_size=0.2, random_state=42)"
      ],
      "metadata": {
        "id": "gtdZWWMb-2jA"
      },
      "execution_count": 11,
      "outputs": []
    },
    {
      "cell_type": "markdown",
      "source": [
        "### **#Langkah 2: Membuat Model Klasifikasi dengan Deep Learning**"
      ],
      "metadata": {
        "id": "UWPq8gaAEr-g"
      }
    },
    {
      "cell_type": "code",
      "source": [
        "# Membangun model deep learning\n",
        "model = Sequential([\n",
        "    Dense(64, activation='relu', input_shape=(X_train.shape[1],)),\n",
        "    Dropout(0.3),\n",
        "    Dense(32, activation='relu'),\n",
        "    Dropout(0.3),\n",
        "    Dense(1, activation='sigmoid')  # Output layer untuk klasifikasi biner\n",
        "])"
      ],
      "metadata": {
        "colab": {
          "base_uri": "https://localhost:8080/"
        },
        "id": "RFp3zKcc-3Le",
        "outputId": "57f0ab3c-7b56-43f7-8325-691e770bd8c3"
      },
      "execution_count": 13,
      "outputs": [
        {
          "output_type": "stream",
          "name": "stderr",
          "text": [
            "/usr/local/lib/python3.10/dist-packages/keras/src/layers/core/dense.py:87: UserWarning: Do not pass an `input_shape`/`input_dim` argument to a layer. When using Sequential models, prefer using an `Input(shape)` object as the first layer in the model instead.\n",
            "  super().__init__(activity_regularizer=activity_regularizer, **kwargs)\n"
          ]
        }
      ]
    },
    {
      "cell_type": "code",
      "source": [
        "# Compile model\n",
        "model.compile(optimizer='adam', loss='binary_crossentropy', metrics=['accuracy'])\n"
      ],
      "metadata": {
        "id": "0Fe1W_PR_BGc"
      },
      "execution_count": 14,
      "outputs": []
    },
    {
      "cell_type": "code",
      "source": [
        "# Melatih model\n",
        "history = model.fit(X_train, y_train, epochs=50, batch_size=32, validation_split=0.2, verbose=1)\n"
      ],
      "metadata": {
        "colab": {
          "base_uri": "https://localhost:8080/"
        },
        "id": "G_Tdk1n5_ByN",
        "outputId": "20f1e7e8-24a2-43c1-e102-26780fdd955a"
      },
      "execution_count": 15,
      "outputs": [
        {
          "output_type": "stream",
          "name": "stdout",
          "text": [
            "Epoch 1/50\n",
            "\u001b[1m21/21\u001b[0m \u001b[32m━━━━━━━━━━━━━━━━━━━━\u001b[0m\u001b[37m\u001b[0m \u001b[1m1s\u001b[0m 11ms/step - accuracy: 0.5533 - loss: 0.6995 - val_accuracy: 0.7683 - val_loss: 0.5864\n",
            "Epoch 2/50\n",
            "\u001b[1m21/21\u001b[0m \u001b[32m━━━━━━━━━━━━━━━━━━━━\u001b[0m\u001b[37m\u001b[0m \u001b[1m0s\u001b[0m 4ms/step - accuracy: 0.7178 - loss: 0.5581 - val_accuracy: 0.8232 - val_loss: 0.5020\n",
            "Epoch 3/50\n",
            "\u001b[1m21/21\u001b[0m \u001b[32m━━━━━━━━━━━━━━━━━━━━\u001b[0m\u001b[37m\u001b[0m \u001b[1m0s\u001b[0m 4ms/step - accuracy: 0.8148 - loss: 0.4582 - val_accuracy: 0.8354 - val_loss: 0.4540\n",
            "Epoch 4/50\n",
            "\u001b[1m21/21\u001b[0m \u001b[32m━━━━━━━━━━━━━━━━━━━━\u001b[0m\u001b[37m\u001b[0m \u001b[1m0s\u001b[0m 3ms/step - accuracy: 0.8616 - loss: 0.3853 - val_accuracy: 0.8476 - val_loss: 0.4234\n",
            "Epoch 5/50\n",
            "\u001b[1m21/21\u001b[0m \u001b[32m━━━━━━━━━━━━━━━━━━━━\u001b[0m\u001b[37m\u001b[0m \u001b[1m0s\u001b[0m 3ms/step - accuracy: 0.8626 - loss: 0.3533 - val_accuracy: 0.8476 - val_loss: 0.4023\n",
            "Epoch 6/50\n",
            "\u001b[1m21/21\u001b[0m \u001b[32m━━━━━━━━━━━━━━━━━━━━\u001b[0m\u001b[37m\u001b[0m \u001b[1m0s\u001b[0m 3ms/step - accuracy: 0.8486 - loss: 0.3677 - val_accuracy: 0.8537 - val_loss: 0.3884\n",
            "Epoch 7/50\n",
            "\u001b[1m21/21\u001b[0m \u001b[32m━━━━━━━━━━━━━━━━━━━━\u001b[0m\u001b[37m\u001b[0m \u001b[1m0s\u001b[0m 3ms/step - accuracy: 0.8645 - loss: 0.3546 - val_accuracy: 0.8598 - val_loss: 0.3805\n",
            "Epoch 8/50\n",
            "\u001b[1m21/21\u001b[0m \u001b[32m━━━━━━━━━━━━━━━━━━━━\u001b[0m\u001b[37m\u001b[0m \u001b[1m0s\u001b[0m 3ms/step - accuracy: 0.8724 - loss: 0.2998 - val_accuracy: 0.8598 - val_loss: 0.3737\n",
            "Epoch 9/50\n",
            "\u001b[1m21/21\u001b[0m \u001b[32m━━━━━━━━━━━━━━━━━━━━\u001b[0m\u001b[37m\u001b[0m \u001b[1m0s\u001b[0m 5ms/step - accuracy: 0.8863 - loss: 0.2814 - val_accuracy: 0.8720 - val_loss: 0.3664\n",
            "Epoch 10/50\n",
            "\u001b[1m21/21\u001b[0m \u001b[32m━━━━━━━━━━━━━━━━━━━━\u001b[0m\u001b[37m\u001b[0m \u001b[1m0s\u001b[0m 3ms/step - accuracy: 0.8909 - loss: 0.2639 - val_accuracy: 0.8780 - val_loss: 0.3641\n",
            "Epoch 11/50\n",
            "\u001b[1m21/21\u001b[0m \u001b[32m━━━━━━━━━━━━━━━━━━━━\u001b[0m\u001b[37m\u001b[0m \u001b[1m0s\u001b[0m 3ms/step - accuracy: 0.8995 - loss: 0.2766 - val_accuracy: 0.8780 - val_loss: 0.3597\n",
            "Epoch 12/50\n",
            "\u001b[1m21/21\u001b[0m \u001b[32m━━━━━━━━━━━━━━━━━━━━\u001b[0m\u001b[37m\u001b[0m \u001b[1m0s\u001b[0m 3ms/step - accuracy: 0.9111 - loss: 0.2453 - val_accuracy: 0.8598 - val_loss: 0.3650\n",
            "Epoch 13/50\n",
            "\u001b[1m21/21\u001b[0m \u001b[32m━━━━━━━━━━━━━━━━━━━━\u001b[0m\u001b[37m\u001b[0m \u001b[1m0s\u001b[0m 4ms/step - accuracy: 0.8983 - loss: 0.2575 - val_accuracy: 0.8720 - val_loss: 0.3652\n",
            "Epoch 14/50\n",
            "\u001b[1m21/21\u001b[0m \u001b[32m━━━━━━━━━━━━━━━━━━━━\u001b[0m\u001b[37m\u001b[0m \u001b[1m0s\u001b[0m 3ms/step - accuracy: 0.8949 - loss: 0.2412 - val_accuracy: 0.8537 - val_loss: 0.3654\n",
            "Epoch 15/50\n",
            "\u001b[1m21/21\u001b[0m \u001b[32m━━━━━━━━━━━━━━━━━━━━\u001b[0m\u001b[37m\u001b[0m \u001b[1m0s\u001b[0m 3ms/step - accuracy: 0.9066 - loss: 0.2524 - val_accuracy: 0.8659 - val_loss: 0.3598\n",
            "Epoch 16/50\n",
            "\u001b[1m21/21\u001b[0m \u001b[32m━━━━━━━━━━━━━━━━━━━━\u001b[0m\u001b[37m\u001b[0m \u001b[1m0s\u001b[0m 4ms/step - accuracy: 0.8997 - loss: 0.2619 - val_accuracy: 0.8659 - val_loss: 0.3560\n",
            "Epoch 17/50\n",
            "\u001b[1m21/21\u001b[0m \u001b[32m━━━━━━━━━━━━━━━━━━━━\u001b[0m\u001b[37m\u001b[0m \u001b[1m0s\u001b[0m 4ms/step - accuracy: 0.8881 - loss: 0.2721 - val_accuracy: 0.8659 - val_loss: 0.3482\n",
            "Epoch 18/50\n",
            "\u001b[1m21/21\u001b[0m \u001b[32m━━━━━━━━━━━━━━━━━━━━\u001b[0m\u001b[37m\u001b[0m \u001b[1m0s\u001b[0m 3ms/step - accuracy: 0.9244 - loss: 0.2143 - val_accuracy: 0.8659 - val_loss: 0.3505\n",
            "Epoch 19/50\n",
            "\u001b[1m21/21\u001b[0m \u001b[32m━━━━━━━━━━━━━━━━━━━━\u001b[0m\u001b[37m\u001b[0m \u001b[1m0s\u001b[0m 3ms/step - accuracy: 0.9233 - loss: 0.2004 - val_accuracy: 0.8780 - val_loss: 0.3518\n",
            "Epoch 20/50\n",
            "\u001b[1m21/21\u001b[0m \u001b[32m━━━━━━━━━━━━━━━━━━━━\u001b[0m\u001b[37m\u001b[0m \u001b[1m0s\u001b[0m 3ms/step - accuracy: 0.9295 - loss: 0.1974 - val_accuracy: 0.8659 - val_loss: 0.3517\n",
            "Epoch 21/50\n",
            "\u001b[1m21/21\u001b[0m \u001b[32m━━━━━━━━━━━━━━━━━━━━\u001b[0m\u001b[37m\u001b[0m \u001b[1m0s\u001b[0m 3ms/step - accuracy: 0.9220 - loss: 0.2101 - val_accuracy: 0.8720 - val_loss: 0.3559\n",
            "Epoch 22/50\n",
            "\u001b[1m21/21\u001b[0m \u001b[32m━━━━━━━━━━━━━━━━━━━━\u001b[0m\u001b[37m\u001b[0m \u001b[1m0s\u001b[0m 4ms/step - accuracy: 0.9424 - loss: 0.1746 - val_accuracy: 0.8659 - val_loss: 0.3527\n",
            "Epoch 23/50\n",
            "\u001b[1m21/21\u001b[0m \u001b[32m━━━━━━━━━━━━━━━━━━━━\u001b[0m\u001b[37m\u001b[0m \u001b[1m0s\u001b[0m 3ms/step - accuracy: 0.9281 - loss: 0.2017 - val_accuracy: 0.8780 - val_loss: 0.3449\n",
            "Epoch 24/50\n",
            "\u001b[1m21/21\u001b[0m \u001b[32m━━━━━━━━━━━━━━━━━━━━\u001b[0m\u001b[37m\u001b[0m \u001b[1m0s\u001b[0m 4ms/step - accuracy: 0.9352 - loss: 0.1711 - val_accuracy: 0.8780 - val_loss: 0.3494\n",
            "Epoch 25/50\n",
            "\u001b[1m21/21\u001b[0m \u001b[32m━━━━━━━━━━━━━━━━━━━━\u001b[0m\u001b[37m\u001b[0m \u001b[1m0s\u001b[0m 4ms/step - accuracy: 0.9367 - loss: 0.1753 - val_accuracy: 0.8780 - val_loss: 0.3501\n",
            "Epoch 26/50\n",
            "\u001b[1m21/21\u001b[0m \u001b[32m━━━━━━━━━━━━━━━━━━━━\u001b[0m\u001b[37m\u001b[0m \u001b[1m0s\u001b[0m 3ms/step - accuracy: 0.9301 - loss: 0.1947 - val_accuracy: 0.8780 - val_loss: 0.3559\n",
            "Epoch 27/50\n",
            "\u001b[1m21/21\u001b[0m \u001b[32m━━━━━━━━━━━━━━━━━━━━\u001b[0m\u001b[37m\u001b[0m \u001b[1m0s\u001b[0m 6ms/step - accuracy: 0.9278 - loss: 0.2157 - val_accuracy: 0.9085 - val_loss: 0.3403\n",
            "Epoch 28/50\n",
            "\u001b[1m21/21\u001b[0m \u001b[32m━━━━━━━━━━━━━━━━━━━━\u001b[0m\u001b[37m\u001b[0m \u001b[1m0s\u001b[0m 7ms/step - accuracy: 0.9207 - loss: 0.1662 - val_accuracy: 0.9085 - val_loss: 0.3384\n",
            "Epoch 29/50\n",
            "\u001b[1m21/21\u001b[0m \u001b[32m━━━━━━━━━━━━━━━━━━━━\u001b[0m\u001b[37m\u001b[0m \u001b[1m0s\u001b[0m 5ms/step - accuracy: 0.9394 - loss: 0.1855 - val_accuracy: 0.8963 - val_loss: 0.3378\n",
            "Epoch 30/50\n",
            "\u001b[1m21/21\u001b[0m \u001b[32m━━━━━━━━━━━━━━━━━━━━\u001b[0m\u001b[37m\u001b[0m \u001b[1m0s\u001b[0m 5ms/step - accuracy: 0.9560 - loss: 0.1364 - val_accuracy: 0.8963 - val_loss: 0.3372\n",
            "Epoch 31/50\n",
            "\u001b[1m21/21\u001b[0m \u001b[32m━━━━━━━━━━━━━━━━━━━━\u001b[0m\u001b[37m\u001b[0m \u001b[1m0s\u001b[0m 5ms/step - accuracy: 0.9340 - loss: 0.1579 - val_accuracy: 0.8963 - val_loss: 0.3314\n",
            "Epoch 32/50\n",
            "\u001b[1m21/21\u001b[0m \u001b[32m━━━━━━━━━━━━━━━━━━━━\u001b[0m\u001b[37m\u001b[0m \u001b[1m0s\u001b[0m 5ms/step - accuracy: 0.9529 - loss: 0.1746 - val_accuracy: 0.8963 - val_loss: 0.3378\n",
            "Epoch 33/50\n",
            "\u001b[1m21/21\u001b[0m \u001b[32m━━━━━━━━━━━━━━━━━━━━\u001b[0m\u001b[37m\u001b[0m \u001b[1m0s\u001b[0m 4ms/step - accuracy: 0.9545 - loss: 0.1362 - val_accuracy: 0.8841 - val_loss: 0.3461\n",
            "Epoch 34/50\n",
            "\u001b[1m21/21\u001b[0m \u001b[32m━━━━━━━━━━━━━━━━━━━━\u001b[0m\u001b[37m\u001b[0m \u001b[1m0s\u001b[0m 4ms/step - accuracy: 0.9627 - loss: 0.1383 - val_accuracy: 0.8841 - val_loss: 0.3406\n",
            "Epoch 35/50\n",
            "\u001b[1m21/21\u001b[0m \u001b[32m━━━━━━━━━━━━━━━━━━━━\u001b[0m\u001b[37m\u001b[0m \u001b[1m0s\u001b[0m 5ms/step - accuracy: 0.9439 - loss: 0.1500 - val_accuracy: 0.9085 - val_loss: 0.3354\n",
            "Epoch 36/50\n",
            "\u001b[1m21/21\u001b[0m \u001b[32m━━━━━━━━━━━━━━━━━━━━\u001b[0m\u001b[37m\u001b[0m \u001b[1m0s\u001b[0m 5ms/step - accuracy: 0.9560 - loss: 0.1297 - val_accuracy: 0.9085 - val_loss: 0.3457\n",
            "Epoch 37/50\n",
            "\u001b[1m21/21\u001b[0m \u001b[32m━━━━━━━━━━━━━━━━━━━━\u001b[0m\u001b[37m\u001b[0m \u001b[1m0s\u001b[0m 5ms/step - accuracy: 0.9501 - loss: 0.1439 - val_accuracy: 0.9146 - val_loss: 0.3547\n",
            "Epoch 38/50\n",
            "\u001b[1m21/21\u001b[0m \u001b[32m━━━━━━━━━━━━━━━━━━━━\u001b[0m\u001b[37m\u001b[0m \u001b[1m0s\u001b[0m 4ms/step - accuracy: 0.9571 - loss: 0.1471 - val_accuracy: 0.8902 - val_loss: 0.3457\n",
            "Epoch 39/50\n",
            "\u001b[1m21/21\u001b[0m \u001b[32m━━━━━━━━━━━━━━━━━━━━\u001b[0m\u001b[37m\u001b[0m \u001b[1m0s\u001b[0m 8ms/step - accuracy: 0.9609 - loss: 0.1183 - val_accuracy: 0.9085 - val_loss: 0.3546\n",
            "Epoch 40/50\n",
            "\u001b[1m21/21\u001b[0m \u001b[32m━━━━━━━━━━━━━━━━━━━━\u001b[0m\u001b[37m\u001b[0m \u001b[1m0s\u001b[0m 4ms/step - accuracy: 0.9456 - loss: 0.1515 - val_accuracy: 0.8841 - val_loss: 0.3548\n",
            "Epoch 41/50\n",
            "\u001b[1m21/21\u001b[0m \u001b[32m━━━━━━━━━━━━━━━━━━━━\u001b[0m\u001b[37m\u001b[0m \u001b[1m0s\u001b[0m 5ms/step - accuracy: 0.9630 - loss: 0.1207 - val_accuracy: 0.8841 - val_loss: 0.3462\n",
            "Epoch 42/50\n",
            "\u001b[1m21/21\u001b[0m \u001b[32m━━━━━━━━━━━━━━━━━━━━\u001b[0m\u001b[37m\u001b[0m \u001b[1m0s\u001b[0m 9ms/step - accuracy: 0.9701 - loss: 0.1079 - val_accuracy: 0.9085 - val_loss: 0.3443\n",
            "Epoch 43/50\n",
            "\u001b[1m21/21\u001b[0m \u001b[32m━━━━━━━━━━━━━━━━━━━━\u001b[0m\u001b[37m\u001b[0m \u001b[1m0s\u001b[0m 5ms/step - accuracy: 0.9603 - loss: 0.1086 - val_accuracy: 0.9085 - val_loss: 0.3420\n",
            "Epoch 44/50\n",
            "\u001b[1m21/21\u001b[0m \u001b[32m━━━━━━━━━━━━━━━━━━━━\u001b[0m\u001b[37m\u001b[0m \u001b[1m0s\u001b[0m 5ms/step - accuracy: 0.9691 - loss: 0.1099 - val_accuracy: 0.9268 - val_loss: 0.3388\n",
            "Epoch 45/50\n",
            "\u001b[1m21/21\u001b[0m \u001b[32m━━━━━━━━━━━━━━━━━━━━\u001b[0m\u001b[37m\u001b[0m \u001b[1m0s\u001b[0m 5ms/step - accuracy: 0.9441 - loss: 0.1481 - val_accuracy: 0.9146 - val_loss: 0.3381\n",
            "Epoch 46/50\n",
            "\u001b[1m21/21\u001b[0m \u001b[32m━━━━━━━━━━━━━━━━━━━━\u001b[0m\u001b[37m\u001b[0m \u001b[1m0s\u001b[0m 6ms/step - accuracy: 0.9730 - loss: 0.1048 - val_accuracy: 0.9146 - val_loss: 0.3375\n",
            "Epoch 47/50\n",
            "\u001b[1m21/21\u001b[0m \u001b[32m━━━━━━━━━━━━━━━━━━━━\u001b[0m\u001b[37m\u001b[0m \u001b[1m0s\u001b[0m 5ms/step - accuracy: 0.9713 - loss: 0.1014 - val_accuracy: 0.9268 - val_loss: 0.3384\n",
            "Epoch 48/50\n",
            "\u001b[1m21/21\u001b[0m \u001b[32m━━━━━━━━━━━━━━━━━━━━\u001b[0m\u001b[37m\u001b[0m \u001b[1m0s\u001b[0m 4ms/step - accuracy: 0.9623 - loss: 0.1256 - val_accuracy: 0.9268 - val_loss: 0.3376\n",
            "Epoch 49/50\n",
            "\u001b[1m21/21\u001b[0m \u001b[32m━━━━━━━━━━━━━━━━━━━━\u001b[0m\u001b[37m\u001b[0m \u001b[1m0s\u001b[0m 4ms/step - accuracy: 0.9499 - loss: 0.1050 - val_accuracy: 0.9268 - val_loss: 0.3474\n",
            "Epoch 50/50\n",
            "\u001b[1m21/21\u001b[0m \u001b[32m━━━━━━━━━━━━━━━━━━━━\u001b[0m\u001b[37m\u001b[0m \u001b[1m0s\u001b[0m 3ms/step - accuracy: 0.9650 - loss: 0.1033 - val_accuracy: 0.9268 - val_loss: 0.3409\n"
          ]
        }
      ]
    },
    {
      "cell_type": "code",
      "source": [
        "# Evaluasi model pada data testing\n",
        "test_loss, test_accuracy = model.evaluate(X_test, y_test, verbose=0)\n",
        "print(f\"Test Loss: {test_loss:.4f}, Test Accuracy: {test_accuracy:.4f}\")"
      ],
      "metadata": {
        "colab": {
          "base_uri": "https://localhost:8080/"
        },
        "id": "Ukd04mrq_F6_",
        "outputId": "81cd0ec7-3498-46d1-a2fa-86c72e64a006"
      },
      "execution_count": 16,
      "outputs": [
        {
          "output_type": "stream",
          "name": "stdout",
          "text": [
            "Test Loss: 0.2034, Test Accuracy: 0.9415\n"
          ]
        }
      ]
    },
    {
      "cell_type": "markdown",
      "source": [
        "### **#Langkah 3: Visualisasi Performa Model**"
      ],
      "metadata": {
        "id": "VLAJ404FEzuO"
      }
    },
    {
      "cell_type": "code",
      "source": [
        "# Plot akurasi\n",
        "plt.plot(history.history['accuracy'], label='Train Accuracy')\n",
        "plt.plot(history.history['val_accuracy'], label='Validation Accuracy')\n",
        "plt.xlabel('Epochs')\n",
        "plt.ylabel('Accuracy')\n",
        "plt.legend()\n",
        "plt.title('Model Accuracy')\n",
        "plt.show()"
      ],
      "metadata": {
        "colab": {
          "base_uri": "https://localhost:8080/",
          "height": 472
        },
        "id": "v4WVoAHx_Hw-",
        "outputId": "d7b6a5a7-36b3-4470-bc3e-c2ea02f61ad1"
      },
      "execution_count": 18,
      "outputs": [
        {
          "output_type": "display_data",
          "data": {
            "text/plain": [
              "<Figure size 640x480 with 1 Axes>"
            ],
            "image/png": "[encoded data removed]"
          },
          "metadata": {}
        }
      ]
    },
    {
      "cell_type": "code",
      "source": [
        "# Plot loss\n",
        "plt.plot(history.history['loss'], label='Train Loss')\n",
        "plt.plot(history.history['val_loss'], label='Validation Loss')\n",
        "plt.xlabel('Epochs')\n",
        "plt.ylabel('Loss')\n",
        "plt.legend()\n",
        "plt.title('Model Loss')\n",
        "plt.show()"
      ],
      "metadata": {
        "colab": {
          "base_uri": "https://localhost:8080/",
          "height": 472
        },
        "id": "U5z-Dmul_Nzw",
        "outputId": "542c3e90-6c24-4888-f868-18ca9bc55d76"
      },
      "execution_count": 19,
      "outputs": [
        {
          "output_type": "display_data",
          "data": {
            "text/plain": [
              "<Figure size 640x480 with 1 Axes>"
            ],
            "image/png": "[encoded data removed]"
          },
          "metadata": {}
        }
      ]
    },
    {
      "cell_type": "markdown",
      "source": [
        "### **prompt gpt: Gunakan PyTorch Library, Gunakan MLP**"
      ],
      "metadata": {
        "id": "o-1h1GkAFC1J"
      }
    },
    {
      "cell_type": "markdown",
      "source": [
        "### **#Langkah 1: Membaca dan Memproses Dataset**"
      ],
      "metadata": {
        "id": "TFFh4hbOE7y4"
      }
    },
    {
      "cell_type": "code",
      "source": [
        "# Memisahkan fitur (X) dan target (y)\n",
        "X = data.drop(columns=['target']).values  # Semua kolom kecuali target\n",
        "y = data['target'].values  # Kolom target"
      ],
      "metadata": {
        "id": "4OU6jH9AAAj3"
      },
      "execution_count": 22,
      "outputs": []
    },
    {
      "cell_type": "code",
      "source": [
        "# Normalisasi fitur\n",
        "scaler = StandardScaler()\n",
        "X_scaled = scaler.fit_transform(X)"
      ],
      "metadata": {
        "id": "yF4BtSm-AEP_"
      },
      "execution_count": 23,
      "outputs": []
    },
    {
      "cell_type": "code",
      "source": [
        "# Membagi data menjadi training dan testing\n",
        "X_train, X_test, y_train, y_test = train_test_split(X_scaled, y, test_size=0.2, random_state=42)\n"
      ],
      "metadata": {
        "id": "nzxHDrxdAHIr"
      },
      "execution_count": 24,
      "outputs": []
    },
    {
      "cell_type": "code",
      "source": [
        "# Konversi ke tensor PyTorch\n",
        "X_train_tensor = torch.tensor(X_train, dtype=torch.float32)\n",
        "X_test_tensor = torch.tensor(X_test, dtype=torch.float32)\n",
        "y_train_tensor = torch.tensor(y_train, dtype=torch.float32).view(-1, 1)\n",
        "y_test_tensor = torch.tensor(y_test, dtype=torch.float32).view(-1, 1)"
      ],
      "metadata": {
        "id": "7BIqGbpvAH7-"
      },
      "execution_count": 25,
      "outputs": []
    },
    {
      "cell_type": "code",
      "source": [
        "# Membuat DataLoader\n",
        "train_dataset = TensorDataset(X_train_tensor, y_train_tensor)\n",
        "test_dataset = TensorDataset(X_test_tensor, y_test_tensor)"
      ],
      "metadata": {
        "id": "v18fAcR9AJtI"
      },
      "execution_count": 26,
      "outputs": []
    },
    {
      "cell_type": "code",
      "source": [
        "train_loader = DataLoader(train_dataset, batch_size=32, shuffle=True)\n",
        "test_loader = DataLoader(test_dataset, batch_size=32, shuffle=False)"
      ],
      "metadata": {
        "id": "izE3jMywALZ7"
      },
      "execution_count": 27,
      "outputs": []
    },
    {
      "cell_type": "markdown",
      "source": [
        "### **#Langkah 2: Membangun Model MLP**"
      ],
      "metadata": {
        "id": "JYL4HvzDFOVF"
      }
    },
    {
      "cell_type": "code",
      "source": [
        "# Membangun model MLP\n",
        "class MLPModel(nn.Module):\n",
        "    def __init__(self, input_size):\n",
        "        super(MLPModel, self).__init__()\n",
        "        self.fc1 = nn.Linear(input_size, 64)\n",
        "        self.fc2 = nn.Linear(64, 32)\n",
        "        self.output = nn.Linear(32, 1)\n",
        "        self.relu = nn.ReLU()\n",
        "        self.dropout = nn.Dropout(0.3)\n",
        "        self.sigmoid = nn.Sigmoid()\n",
        "\n",
        "    def forward(self, x):\n",
        "        x = self.relu(self.fc1(x))\n",
        "        x = self.dropout(x)\n",
        "        x = self.relu(self.fc2(x))\n",
        "        x = self.dropout(x)\n",
        "        x = self.sigmoid(self.output(x))\n",
        "        return x"
      ],
      "metadata": {
        "id": "V7_AZ7EuANHz"
      },
      "execution_count": 29,
      "outputs": []
    },
    {
      "cell_type": "code",
      "source": [
        "# Inisialisasi model\n",
        "input_size = X_train.shape[1]\n",
        "model = MLPModel(input_size)"
      ],
      "metadata": {
        "id": "RpH24g1dAaM5"
      },
      "execution_count": 30,
      "outputs": []
    },
    {
      "cell_type": "markdown",
      "source": [
        "### **#Langkah 3: Menentukan Loss Function dan Optimizer**"
      ],
      "metadata": {
        "id": "HF8lJFXuFSpe"
      }
    },
    {
      "cell_type": "code",
      "source": [
        "# Loss function dan optimizer\n",
        "criterion = nn.BCELoss()  # Binary Cross Entropy untuk klasifikasi biner\n",
        "optimizer = optim.Adam(model.parameters(), lr=0.001)"
      ],
      "metadata": {
        "id": "rRyHWhquAa4S"
      },
      "execution_count": 32,
      "outputs": []
    },
    {
      "cell_type": "markdown",
      "source": [
        "### **#Langkah 4: Melatih Model**"
      ],
      "metadata": {
        "id": "RiV7pZ7EFW7p"
      }
    },
    {
      "cell_type": "code",
      "source": [
        "# Melatih model\n",
        "def train_model(model, train_loader, criterion, optimizer, epochs=50):\n",
        "    model.train()\n",
        "    for epoch in range(epochs):\n",
        "        running_loss = 0.0\n",
        "        for X_batch, y_batch in train_loader:\n",
        "            # Forward pass\n",
        "            outputs = model(X_batch)\n",
        "            loss = criterion(outputs, y_batch)\n",
        "\n",
        "            # Backward pass dan optimasi\n",
        "            optimizer.zero_grad()\n",
        "            loss.backward()\n",
        "            optimizer.step()\n",
        "\n",
        "            running_loss += loss.item()\n",
        "\n",
        "        print(f\"Epoch {epoch+1}/{epochs}, Loss: {running_loss/len(train_loader):.4f}\")\n",
        "\n",
        "# Melatih model\n",
        "train_model(model, train_loader, criterion, optimizer, epochs=50)"
      ],
      "metadata": {
        "colab": {
          "base_uri": "https://localhost:8080/"
        },
        "id": "Whs1i76NAjbP",
        "outputId": "e10371b8-4a6d-4c18-bc7d-096ddb3ad0ff"
      },
      "execution_count": 33,
      "outputs": [
        {
          "output_type": "stream",
          "name": "stdout",
          "text": [
            "Epoch 1/50, Loss: 0.6418\n",
            "Epoch 2/50, Loss: 0.5284\n",
            "Epoch 3/50, Loss: 0.4171\n",
            "Epoch 4/50, Loss: 0.3655\n",
            "Epoch 5/50, Loss: 0.3424\n",
            "Epoch 6/50, Loss: 0.3248\n",
            "Epoch 7/50, Loss: 0.3148\n",
            "Epoch 8/50, Loss: 0.3024\n",
            "Epoch 9/50, Loss: 0.3007\n",
            "Epoch 10/50, Loss: 0.2948\n",
            "Epoch 11/50, Loss: 0.2874\n",
            "Epoch 12/50, Loss: 0.2744\n",
            "Epoch 13/50, Loss: 0.2770\n",
            "Epoch 14/50, Loss: 0.2795\n",
            "Epoch 15/50, Loss: 0.2726\n",
            "Epoch 16/50, Loss: 0.2617\n",
            "Epoch 17/50, Loss: 0.2524\n",
            "Epoch 18/50, Loss: 0.2506\n",
            "Epoch 19/50, Loss: 0.2483\n",
            "Epoch 20/50, Loss: 0.2376\n",
            "Epoch 21/50, Loss: 0.2487\n",
            "Epoch 22/50, Loss: 0.2249\n",
            "Epoch 23/50, Loss: 0.2363\n",
            "Epoch 24/50, Loss: 0.2144\n",
            "Epoch 25/50, Loss: 0.2171\n",
            "Epoch 26/50, Loss: 0.2066\n",
            "Epoch 27/50, Loss: 0.2120\n",
            "Epoch 28/50, Loss: 0.2085\n",
            "Epoch 29/50, Loss: 0.1998\n",
            "Epoch 30/50, Loss: 0.2044\n",
            "Epoch 31/50, Loss: 0.1885\n",
            "Epoch 32/50, Loss: 0.1912\n",
            "Epoch 33/50, Loss: 0.2143\n",
            "Epoch 34/50, Loss: 0.2035\n",
            "Epoch 35/50, Loss: 0.1957\n",
            "Epoch 36/50, Loss: 0.1873\n",
            "Epoch 37/50, Loss: 0.1673\n",
            "Epoch 38/50, Loss: 0.1731\n",
            "Epoch 39/50, Loss: 0.1745\n",
            "Epoch 40/50, Loss: 0.1661\n",
            "Epoch 41/50, Loss: 0.1578\n",
            "Epoch 42/50, Loss: 0.1772\n",
            "Epoch 43/50, Loss: 0.1732\n",
            "Epoch 44/50, Loss: 0.1599\n",
            "Epoch 45/50, Loss: 0.1526\n",
            "Epoch 46/50, Loss: 0.1549\n",
            "Epoch 47/50, Loss: 0.1582\n",
            "Epoch 48/50, Loss: 0.1662\n",
            "Epoch 49/50, Loss: 0.1665\n",
            "Epoch 50/50, Loss: 0.1477\n"
          ]
        }
      ]
    },
    {
      "cell_type": "markdown",
      "source": [
        "### **#Langkah 5: Evaluasi Model**"
      ],
      "metadata": {
        "id": "Q-3QMfg1FbsT"
      }
    },
    {
      "cell_type": "code",
      "source": [
        "# Evaluasi model\n",
        "def evaluate_model(model, test_loader):\n",
        "    model.eval()\n",
        "    correct = 0\n",
        "    total = 0\n",
        "    with torch.no_grad():\n",
        "        for X_batch, y_batch in test_loader:\n",
        "            outputs = model(X_batch)\n",
        "            predicted = (outputs > 0.5).float()\n",
        "            total += y_batch.size(0)\n",
        "            correct += (predicted == y_batch).sum().item()\n",
        "\n",
        "    accuracy = correct / total\n",
        "    print(f\"Test Accuracy: {accuracy:.4f}\")\n",
        "\n",
        "# Evaluasi model\n",
        "evaluate_model(model, test_loader)\n"
      ],
      "metadata": {
        "colab": {
          "base_uri": "https://localhost:8080/"
        },
        "id": "5WADr-pNAn4F",
        "outputId": "ef4ffcec-2fa3-492e-ad65-d6302312df5d"
      },
      "execution_count": 34,
      "outputs": [
        {
          "output_type": "stream",
          "name": "stdout",
          "text": [
            "Test Accuracy: 0.9073\n"
          ]
        }
      ]
    },
    {
      "cell_type": "markdown",
      "source": [
        "### **prompt gpt: beri kode untuk  membandingkan Hidden Layer (1,2,3) dengan jumlah neuron (4, 8, 16, 32, 64,...)**"
      ],
      "metadata": {
        "id": "XpUjtLUeFhJD"
      }
    },
    {
      "cell_type": "code",
      "source": [
        "# Preprocessing data\n",
        "X = data.drop(columns=['target']).values\n",
        "y = data['target'].values"
      ],
      "metadata": {
        "id": "wGMQqTusAqhL"
      },
      "execution_count": 36,
      "outputs": []
    },
    {
      "cell_type": "code",
      "source": [
        "scaler = StandardScaler()\n",
        "X_scaled = scaler.fit_transform(X)"
      ],
      "metadata": {
        "id": "7nx0eGKTBDfX"
      },
      "execution_count": 37,
      "outputs": []
    },
    {
      "cell_type": "code",
      "source": [
        "X_train, X_test, y_train, y_test = train_test_split(X_scaled, y, test_size=0.2, random_state=42)\n"
      ],
      "metadata": {
        "id": "cUz5S7-bBFZJ"
      },
      "execution_count": 38,
      "outputs": []
    },
    {
      "cell_type": "code",
      "source": [
        "X_train_tensor = torch.tensor(X_train, dtype=torch.float32)\n",
        "X_test_tensor = torch.tensor(X_test, dtype=torch.float32)\n",
        "y_train_tensor = torch.tensor(y_train, dtype=torch.float32).view(-1, 1)\n",
        "y_test_tensor = torch.tensor(y_test, dtype=torch.float32).view(-1, 1)"
      ],
      "metadata": {
        "id": "OQmFLMwABHcG"
      },
      "execution_count": 39,
      "outputs": []
    },
    {
      "cell_type": "code",
      "source": [
        "train_dataset = TensorDataset(X_train_tensor, y_train_tensor)\n",
        "test_dataset = TensorDataset(X_test_tensor, y_test_tensor)"
      ],
      "metadata": {
        "id": "s0i0o-ddBLbt"
      },
      "execution_count": 40,
      "outputs": []
    },
    {
      "cell_type": "code",
      "source": [
        "train_loader = DataLoader(train_dataset, batch_size=32, shuffle=True)\n",
        "test_loader = DataLoader(test_dataset, batch_size=32, shuffle=False)\n"
      ],
      "metadata": {
        "id": "XKx2ab3cBNjQ"
      },
      "execution_count": 41,
      "outputs": []
    },
    {
      "cell_type": "code",
      "source": [
        "# MLP Model with Variable Hidden Layers and Neurons\n",
        "class MLPModel(nn.Module):\n",
        "    def __init__(self, input_size, hidden_layers, neurons):\n",
        "        super(MLPModel, self).__init__()\n",
        "        layers = []\n",
        "        current_size = input_size\n",
        "        for _ in range(hidden_layers):\n",
        "            layers.append(nn.Linear(current_size, neurons))\n",
        "            layers.append(nn.ReLU())\n",
        "            layers.append(nn.Dropout(0.3))\n",
        "            current_size = neurons\n",
        "        layers.append(nn.Linear(current_size, 1))\n",
        "        layers.append(nn.Sigmoid())\n",
        "        self.model = nn.Sequential(*layers)\n",
        "\n",
        "    def forward(self, x):\n",
        "        return self.model(x)"
      ],
      "metadata": {
        "id": "4ZVn8OMsBR6V"
      },
      "execution_count": 42,
      "outputs": []
    },
    {
      "cell_type": "code",
      "source": [
        "# Function to train model\n",
        "def train_model(model, train_loader, criterion, optimizer, epochs=10):\n",
        "    model.train()\n",
        "    for epoch in range(epochs):\n",
        "        for X_batch, y_batch in train_loader:\n",
        "            outputs = model(X_batch)\n",
        "            loss = criterion(outputs, y_batch)\n",
        "            optimizer.zero_grad()\n",
        "            loss.backward()\n",
        "            optimizer.step()"
      ],
      "metadata": {
        "id": "pXqBUUUKBUVI"
      },
      "execution_count": 43,
      "outputs": []
    },
    {
      "cell_type": "code",
      "source": [
        "# Function to evaluate model\n",
        "def evaluate_model(model, test_loader):\n",
        "    model.eval()\n",
        "    correct = 0\n",
        "    total = 0\n",
        "    with torch.no_grad():\n",
        "        for X_batch, y_batch in test_loader:\n",
        "            outputs = model(X_batch)\n",
        "            predicted = (outputs > 0.5).float()\n",
        "            total += y_batch.size(0)\n",
        "            correct += (predicted == y_batch).sum().item()\n",
        "    accuracy = correct / total\n",
        "    return accuracy"
      ],
      "metadata": {
        "id": "onWK1wCnBXv9"
      },
      "execution_count": 44,
      "outputs": []
    },
    {
      "cell_type": "code",
      "source": [
        "# Hyperparameter combinations\n",
        "hidden_layer_options = [1, 2, 3]\n",
        "neuron_options = [4, 8, 16, 32, 64]\n",
        "input_size = X_train.shape[1]\n",
        "\n",
        "results = []\n",
        "\n",
        "for hidden_layers, neurons in itertools.product(hidden_layer_options, neuron_options):\n",
        "    print(f\"Training model with {hidden_layers} hidden layer(s) and {neurons} neurons...\")\n",
        "    model = MLPModel(input_size=input_size, hidden_layers=hidden_layers, neurons=neurons)\n",
        "    criterion = nn.BCELoss()\n",
        "    optimizer = optim.Adam(model.parameters(), lr=0.001)\n",
        "\n",
        "   # Train model\n",
        "    train_model(model, train_loader, criterion, optimizer, epochs=10)\n",
        "\n",
        "    # Evaluate model\n",
        "    accuracy = evaluate_model(model, test_loader)\n",
        "    results.append((hidden_layers, neurons, accuracy))\n",
        "    print(f\"Accuracy: {accuracy:.4f}\")"
      ],
      "metadata": {
        "colab": {
          "base_uri": "https://localhost:8080/"
        },
        "id": "MspWu-3XBaNo",
        "outputId": "0b228bc5-1dc0-44b9-96d2-ef272a9e8e01"
      },
      "execution_count": 47,
      "outputs": [
        {
          "output_type": "stream",
          "name": "stdout",
          "text": [
            "Training model with 1 hidden layer(s) and 4 neurons...\n",
            "Accuracy: 0.8000\n",
            "Training model with 1 hidden layer(s) and 8 neurons...\n",
            "Accuracy: 0.7707\n",
            "Training model with 1 hidden layer(s) and 16 neurons...\n",
            "Accuracy: 0.7902\n",
            "Training model with 1 hidden layer(s) and 32 neurons...\n",
            "Accuracy: 0.7951\n",
            "Training model with 1 hidden layer(s) and 64 neurons...\n",
            "Accuracy: 0.8098\n",
            "Training model with 2 hidden layer(s) and 4 neurons...\n",
            "Accuracy: 0.8098\n",
            "Training model with 2 hidden layer(s) and 8 neurons...\n",
            "Accuracy: 0.7561\n",
            "Training model with 2 hidden layer(s) and 16 neurons...\n",
            "Accuracy: 0.8195\n",
            "Training model with 2 hidden layer(s) and 32 neurons...\n",
            "Accuracy: 0.8341\n",
            "Training model with 2 hidden layer(s) and 64 neurons...\n",
            "Accuracy: 0.8341\n",
            "Training model with 3 hidden layer(s) and 4 neurons...\n",
            "Accuracy: 0.7854\n",
            "Training model with 3 hidden layer(s) and 8 neurons...\n",
            "Accuracy: 0.8049\n",
            "Training model with 3 hidden layer(s) and 16 neurons...\n",
            "Accuracy: 0.8049\n",
            "Training model with 3 hidden layer(s) and 32 neurons...\n",
            "Accuracy: 0.8341\n",
            "Training model with 3 hidden layer(s) and 64 neurons...\n",
            "Accuracy: 0.8390\n"
          ]
        }
      ]
    },
    {
      "cell_type": "code",
      "source": [
        "# Display results\n",
        "results_df = pd.DataFrame(results, columns=['Hidden Layers', 'Neurons', 'Accuracy'])\n",
        "print(\"\\nComparison Results:\")\n",
        "print(results_df)"
      ],
      "metadata": {
        "colab": {
          "base_uri": "https://localhost:8080/"
        },
        "id": "jXqxnIDoBfF7",
        "outputId": "463351ec-98ea-41b7-dfb0-53de3c490b5c"
      },
      "execution_count": 48,
      "outputs": [
        {
          "output_type": "stream",
          "name": "stdout",
          "text": [
            "\n",
            "Comparison Results:\n",
            "    Hidden Layers  Neurons  Accuracy\n",
            "0               1        4  0.800000\n",
            "1               1        8  0.770732\n",
            "2               1       16  0.790244\n",
            "3               1       32  0.795122\n",
            "4               1       64  0.809756\n",
            "5               2        4  0.809756\n",
            "6               2        8  0.756098\n",
            "7               2       16  0.819512\n",
            "8               2       32  0.834146\n",
            "9               2       64  0.834146\n",
            "10              3        4  0.785366\n",
            "11              3        8  0.804878\n",
            "12              3       16  0.804878\n",
            "13              3       32  0.834146\n",
            "14              3       64  0.839024\n"
          ]
        }
      ]
    },
    {
      "cell_type": "code",
      "source": [
        "# Save results to CSV\n",
        "results_df.to_csv('comparison_results.csv', index=False)"
      ],
      "metadata": {
        "id": "lwxmI6m0Bs7v"
      },
      "execution_count": 49,
      "outputs": []
    },
    {
      "cell_type": "markdown",
      "source": [
        "### **prompt gpt: beri kode untuk membandingkan Activation Function (linear,Sigmoid,RelU,Softmax,Tanh)**"
      ],
      "metadata": {
        "id": "ozSrhkl4B55g"
      }
    },
    {
      "cell_type": "code",
      "source": [
        "# Preprocessing data\n",
        "X = data.drop(columns=['target']).values\n",
        "y = data['target'].values"
      ],
      "metadata": {
        "id": "IWpA52TyB5WR"
      },
      "execution_count": 50,
      "outputs": []
    },
    {
      "cell_type": "code",
      "source": [
        "scaler = StandardScaler()\n",
        "X_scaled = scaler.fit_transform(X)"
      ],
      "metadata": {
        "id": "5doHi93LB7mb"
      },
      "execution_count": 51,
      "outputs": []
    },
    {
      "cell_type": "code",
      "source": [
        "X_train, X_test, y_train, y_test = train_test_split(X_scaled, y, test_size=0.2, random_state=42)\n"
      ],
      "metadata": {
        "id": "ewHH1XP8B9Yv"
      },
      "execution_count": 52,
      "outputs": []
    },
    {
      "cell_type": "code",
      "source": [
        "X_train_tensor = torch.tensor(X_train, dtype=torch.float32)\n",
        "X_test_tensor = torch.tensor(X_test, dtype=torch.float32)\n",
        "y_train_tensor = torch.tensor(y_train, dtype=torch.float32).view(-1, 1)\n",
        "y_test_tensor = torch.tensor(y_test, dtype=torch.float32).view(-1, 1)\n"
      ],
      "metadata": {
        "id": "nmC60a3tB_MS"
      },
      "execution_count": 53,
      "outputs": []
    },
    {
      "cell_type": "code",
      "source": [
        "train_dataset = TensorDataset(X_train_tensor, y_train_tensor)\n",
        "test_dataset = TensorDataset(X_test_tensor, y_test_tensor)\n"
      ],
      "metadata": {
        "id": "dxkOWNvcCA-T"
      },
      "execution_count": 54,
      "outputs": []
    },
    {
      "cell_type": "code",
      "source": [
        "train_loader = DataLoader(train_dataset, batch_size=32, shuffle=True)\n",
        "test_loader = DataLoader(test_dataset, batch_size=32, shuffle=False)\n"
      ],
      "metadata": {
        "id": "h7sp1h77CCgF"
      },
      "execution_count": 55,
      "outputs": []
    },
    {
      "cell_type": "code",
      "source": [
        "# MLP Model with Variable Activation Function\n",
        "class MLPModel(nn.Module):\n",
        "    def __init__(self, input_size, activation_fn):\n",
        "        super(MLPModel, self).__init__()\n",
        "        self.fc1 = nn.Linear(input_size, 64)\n",
        "        self.fc2 = nn.Linear(64, 32)\n",
        "        self.output = nn.Linear(32, 1)\n",
        "        self.activation = activation_fn\n",
        "        self.sigmoid = nn.Sigmoid()\n",
        "\n",
        "    def forward(self, x):\n",
        "        x = self.activation(self.fc1(x))\n",
        "        x = self.activation(self.fc2(x))\n",
        "        x = self.sigmoid(self.output(x))  # Output untuk klasifikasi biner\n",
        "        return x"
      ],
      "metadata": {
        "id": "WJ36EtldCExO"
      },
      "execution_count": 56,
      "outputs": []
    },
    {
      "cell_type": "code",
      "source": [
        "# Function to train model\n",
        "def train_model(model, train_loader, criterion, optimizer, epochs=10):\n",
        "    model.train()\n",
        "    for epoch in range(epochs):\n",
        "        for X_batch, y_batch in train_loader:\n",
        "            outputs = model(X_batch)\n",
        "            loss = criterion(outputs, y_batch)\n",
        "            optimizer.zero_grad()\n",
        "            loss.backward()\n",
        "            optimizer.step()"
      ],
      "metadata": {
        "id": "4xIuNXfPCIt4"
      },
      "execution_count": 57,
      "outputs": []
    },
    {
      "cell_type": "code",
      "source": [
        "# Function to evaluate model\n",
        "def evaluate_model(model, test_loader):\n",
        "    model.eval()\n",
        "    correct = 0\n",
        "    total = 0\n",
        "    with torch.no_grad():\n",
        "        for X_batch, y_batch in test_loader:\n",
        "            outputs = model(X_batch)\n",
        "            predicted = (outputs > 0.5).float()\n",
        "            total += y_batch.size(0)\n",
        "            correct += (predicted == y_batch).sum().item()\n",
        "    accuracy = correct / total\n",
        "    return accuracy"
      ],
      "metadata": {
        "id": "NA3w7iLyCKjN"
      },
      "execution_count": 58,
      "outputs": []
    },
    {
      "cell_type": "code",
      "source": [
        "# Activation functions to compare\n",
        "activation_functions = {\n",
        "    'Linear': nn.Identity(),\n",
        "    'Sigmoid': nn.Sigmoid(),\n",
        "    'ReLU': nn.ReLU(),\n",
        "    'Softmax': nn.Softmax(dim=1),  # Not typically used in hidden layers\n",
        "    'Tanh': nn.Tanh()\n",
        "}"
      ],
      "metadata": {
        "id": "FLdSVfbaCRMv"
      },
      "execution_count": 59,
      "outputs": []
    },
    {
      "cell_type": "code",
      "source": [
        "# Comparison\n",
        "input_size = X_train.shape[1]\n",
        "results = []\n",
        "\n",
        "for name, activation_fn in activation_functions.items():\n",
        "    print(f\"Training model with {name} activation function...\")\n",
        "    model = MLPModel(input_size=input_size, activation_fn=activation_fn)\n",
        "    criterion = nn.BCELoss()\n",
        "    optimizer = optim.Adam(model.parameters(), lr=0.001)\n",
        "\n",
        "    # Train model\n",
        "    train_model(model, train_loader, criterion, optimizer, epochs=10)\n",
        "\n",
        "    # Evaluate model\n",
        "    accuracy = evaluate_model(model, test_loader)\n",
        "    results.append((name, accuracy))\n",
        "    print(f\"Accuracy with {name}: {accuracy:.4f}\")\n"
      ],
      "metadata": {
        "colab": {
          "base_uri": "https://localhost:8080/"
        },
        "id": "TT_xVFprCR1X",
        "outputId": "ee3bc32b-4290-4132-a5da-b9d6d11c1acb"
      },
      "execution_count": 60,
      "outputs": [
        {
          "output_type": "stream",
          "name": "stdout",
          "text": [
            "Training model with Linear activation function...\n",
            "Accuracy with Linear: 0.7951\n",
            "Training model with Sigmoid activation function...\n",
            "Accuracy with Sigmoid: 0.8049\n",
            "Training model with ReLU activation function...\n",
            "Accuracy with ReLU: 0.8293\n",
            "Training model with Softmax activation function...\n",
            "Accuracy with Softmax: 0.7512\n",
            "Training model with Tanh activation function...\n",
            "Accuracy with Tanh: 0.8000\n"
          ]
        }
      ]
    },
    {
      "cell_type": "code",
      "source": [
        "# Display results\n",
        "results_df = pd.DataFrame(results, columns=['Activation Function', 'Accuracy'])\n",
        "print(\"\\nComparison Results:\")\n",
        "print(results_df)\n"
      ],
      "metadata": {
        "colab": {
          "base_uri": "https://localhost:8080/"
        },
        "id": "yQzlFdbtCWLi",
        "outputId": "0c7008b9-f17b-4260-83f0-d5efd022519b"
      },
      "execution_count": 61,
      "outputs": [
        {
          "output_type": "stream",
          "name": "stdout",
          "text": [
            "\n",
            "Comparison Results:\n",
            "  Activation Function  Accuracy\n",
            "0              Linear  0.795122\n",
            "1             Sigmoid  0.804878\n",
            "2                ReLU  0.829268\n",
            "3             Softmax  0.751220\n",
            "4                Tanh  0.800000\n"
          ]
        }
      ]
    },
    {
      "cell_type": "code",
      "source": [
        "# Save results to CSV\n",
        "results_df.to_csv('activation_function_comparison.csv', index=False)"
      ],
      "metadata": {
        "id": "Cjvci_SUCYq7"
      },
      "execution_count": 62,
      "outputs": []
    },
    {
      "cell_type": "markdown",
      "source": [
        "### **prompt gpt: beri kode untuk membandingkan Epoch (1,10,25,50,100,250)**"
      ],
      "metadata": {
        "id": "l6NYy--kCagy"
      }
    },
    {
      "cell_type": "code",
      "source": [
        "# Preprocessing data\n",
        "X = data.drop(columns=['target']).values\n",
        "y = data['target'].values"
      ],
      "metadata": {
        "id": "t6O5-WFCCbGT"
      },
      "execution_count": 63,
      "outputs": []
    },
    {
      "cell_type": "code",
      "source": [
        "scaler = StandardScaler()\n",
        "X_scaled = scaler.fit_transform(X)"
      ],
      "metadata": {
        "id": "gEjFORECCmL6"
      },
      "execution_count": 64,
      "outputs": []
    },
    {
      "cell_type": "code",
      "source": [
        "X_train, X_test, y_train, y_test = train_test_split(X_scaled, y, test_size=0.2, random_state=42)"
      ],
      "metadata": {
        "id": "QIEcBDZBCnw-"
      },
      "execution_count": 65,
      "outputs": []
    },
    {
      "cell_type": "code",
      "source": [
        "X_train_tensor = torch.tensor(X_train, dtype=torch.float32)\n",
        "X_test_tensor = torch.tensor(X_test, dtype=torch.float32)\n",
        "y_train_tensor = torch.tensor(y_train, dtype=torch.float32).view(-1, 1)\n",
        "y_test_tensor = torch.tensor(y_test, dtype=torch.float32).view(-1, 1)"
      ],
      "metadata": {
        "id": "Qc3_HHrICpzX"
      },
      "execution_count": 66,
      "outputs": []
    },
    {
      "cell_type": "code",
      "source": [
        "train_dataset = TensorDataset(X_train_tensor, y_train_tensor)\n",
        "test_dataset = TensorDataset(X_test_tensor, y_test_tensor)\n"
      ],
      "metadata": {
        "id": "5BWtWkrVCshX"
      },
      "execution_count": 67,
      "outputs": []
    },
    {
      "cell_type": "code",
      "source": [
        "train_loader = DataLoader(train_dataset, batch_size=32, shuffle=True)\n",
        "test_loader = DataLoader(test_dataset, batch_size=32, shuffle=False)\n"
      ],
      "metadata": {
        "id": "pwRwg-E-CumR"
      },
      "execution_count": 68,
      "outputs": []
    },
    {
      "cell_type": "code",
      "source": [
        "# MLP Model\n",
        "class MLPModel(nn.Module):\n",
        "    def __init__(self, input_size):\n",
        "        super(MLPModel, self).__init__()\n",
        "        self.fc1 = nn.Linear(input_size, 64)\n",
        "        self.fc2 = nn.Linear(64, 32)\n",
        "        self.output = nn.Linear(32, 1)\n",
        "        self.relu = nn.ReLU()\n",
        "        self.sigmoid = nn.Sigmoid()\n",
        "\n",
        "    def forward(self, x):\n",
        "        x = self.relu(self.fc1(x))\n",
        "        x = self.relu(self.fc2(x))\n",
        "        x = self.sigmoid(self.output(x))\n",
        "        return x\n"
      ],
      "metadata": {
        "id": "eQ-1np1ECwWg"
      },
      "execution_count": 69,
      "outputs": []
    },
    {
      "cell_type": "code",
      "source": [
        "# Function to train model\n",
        "def train_model(model, train_loader, criterion, optimizer, epochs):\n",
        "    model.train()\n",
        "    for epoch in range(epochs):\n",
        "        for X_batch, y_batch in train_loader:\n",
        "            outputs = model(X_batch)\n",
        "            loss = criterion(outputs, y_batch)\n",
        "            optimizer.zero_grad()\n",
        "            loss.backward()\n",
        "            optimizer.step()"
      ],
      "metadata": {
        "id": "DWHU3EcCCyuA"
      },
      "execution_count": 70,
      "outputs": []
    },
    {
      "cell_type": "code",
      "source": [
        "# Function to evaluate model\n",
        "def evaluate_model(model, test_loader):\n",
        "    model.eval()\n",
        "    correct = 0\n",
        "    total = 0\n",
        "    with torch.no_grad():\n",
        "        for X_batch, y_batch in test_loader:\n",
        "            outputs = model(X_batch)\n",
        "            predicted = (outputs > 0.5).float()\n",
        "            total += y_batch.size(0)\n",
        "            correct += (predicted == y_batch).sum().item()\n",
        "    accuracy = correct / total\n",
        "    return accuracy"
      ],
      "metadata": {
        "id": "C2iZ5DJxC1Hn"
      },
      "execution_count": 71,
      "outputs": []
    },
    {
      "cell_type": "code",
      "source": [
        "# Epoch values to compare\n",
        "epoch_values = [1, 10, 25, 50, 100, 250]\n",
        "input_size = X_train.shape[1]\n",
        "\n",
        "results = []\n",
        "\n",
        "for epochs in epoch_values:\n",
        "    print(f\"Training model with {epochs} epoch(s)...\")\n",
        "    model = MLPModel(input_size=input_size)\n",
        "    criterion = nn.BCELoss()\n",
        "    optimizer = optim.Adam(model.parameters(), lr=0.001)\n",
        "\n",
        "    # Train model\n",
        "    train_model(model, train_loader, criterion, optimizer, epochs)\n",
        "\n",
        "    # Evaluate model\n",
        "    accuracy = evaluate_model(model, test_loader)\n",
        "    results.append((epochs, accuracy))\n",
        "    print(f\"Accuracy with {epochs} epoch(s): {accuracy:.4f}\")\n"
      ],
      "metadata": {
        "colab": {
          "base_uri": "https://localhost:8080/"
        },
        "id": "x7C2MFkCC3dy",
        "outputId": "763eb09e-ce6d-4f42-aabe-206d17cff5b2"
      },
      "execution_count": 72,
      "outputs": [
        {
          "output_type": "stream",
          "name": "stdout",
          "text": [
            "Training model with 1 epoch(s)...\n",
            "Accuracy with 1 epoch(s): 0.8098\n",
            "Training model with 10 epoch(s)...\n",
            "Accuracy with 10 epoch(s): 0.8341\n",
            "Training model with 25 epoch(s)...\n",
            "Accuracy with 25 epoch(s): 0.8927\n",
            "Training model with 50 epoch(s)...\n",
            "Accuracy with 50 epoch(s): 0.9854\n",
            "Training model with 100 epoch(s)...\n",
            "Accuracy with 100 epoch(s): 0.9854\n",
            "Training model with 250 epoch(s)...\n",
            "Accuracy with 250 epoch(s): 0.9854\n"
          ]
        }
      ]
    },
    {
      "cell_type": "code",
      "source": [
        "# Display results\n",
        "results_df = pd.DataFrame(results, columns=['Epochs', 'Accuracy'])\n",
        "print(\"\\nComparison Results:\")\n",
        "print(results_df)"
      ],
      "metadata": {
        "colab": {
          "base_uri": "https://localhost:8080/"
        },
        "id": "UbSQTsdFDAc6",
        "outputId": "e31189ca-171c-46ca-a86f-ee04b6a63a3d"
      },
      "execution_count": 73,
      "outputs": [
        {
          "output_type": "stream",
          "name": "stdout",
          "text": [
            "\n",
            "Comparison Results:\n",
            "   Epochs  Accuracy\n",
            "0       1  0.809756\n",
            "1      10  0.834146\n",
            "2      25  0.892683\n",
            "3      50  0.985366\n",
            "4     100  0.985366\n",
            "5     250  0.985366\n"
          ]
        }
      ]
    },
    {
      "cell_type": "code",
      "source": [
        "# Save results to CSV\n",
        "results_df.to_csv('epoch_comparison_results.csv', index=False)"
      ],
      "metadata": {
        "id": "ePbiAxBrDCfY"
      },
      "execution_count": 74,
      "outputs": []
    },
    {
      "cell_type": "markdown",
      "source": [
        "### **prompt gpt: Bandingkan Learning Rate (10/1/0.1/0.01/0.001/0.0001)**"
      ],
      "metadata": {
        "id": "2s0sYULODEjx"
      }
    },
    {
      "cell_type": "code",
      "source": [
        "# Preprocessing data\n",
        "X = data.drop(columns=['target']).values\n",
        "y = data['target'].values"
      ],
      "metadata": {
        "id": "25QVsT2dDE0X"
      },
      "execution_count": 75,
      "outputs": []
    },
    {
      "cell_type": "code",
      "source": [
        "scaler = StandardScaler()\n",
        "X_scaled = scaler.fit_transform(X)"
      ],
      "metadata": {
        "id": "cpmwIf97DNri"
      },
      "execution_count": 76,
      "outputs": []
    },
    {
      "cell_type": "code",
      "source": [
        "X_train, X_test, y_train, y_test = train_test_split(X_scaled, y, test_size=0.2, random_state=42)\n"
      ],
      "metadata": {
        "id": "IM1txY0SDPd-"
      },
      "execution_count": 77,
      "outputs": []
    },
    {
      "cell_type": "code",
      "source": [
        "X_train_tensor = torch.tensor(X_train, dtype=torch.float32)\n",
        "X_test_tensor = torch.tensor(X_test, dtype=torch.float32)\n",
        "y_train_tensor = torch.tensor(y_train, dtype=torch.float32).view(-1, 1)\n",
        "y_test_tensor = torch.tensor(y_test, dtype=torch.float32).view(-1, 1)"
      ],
      "metadata": {
        "id": "myHlZ5EeDQ2I"
      },
      "execution_count": 78,
      "outputs": []
    },
    {
      "cell_type": "code",
      "source": [
        "train_dataset = TensorDataset(X_train_tensor, y_train_tensor)\n",
        "test_dataset = TensorDataset(X_test_tensor, y_test_tensor)"
      ],
      "metadata": {
        "id": "oFNfIvrjDShd"
      },
      "execution_count": 79,
      "outputs": []
    },
    {
      "cell_type": "code",
      "source": [
        "train_loader = DataLoader(train_dataset, batch_size=32, shuffle=True)\n",
        "test_loader = DataLoader(test_dataset, batch_size=32, shuffle=False)\n"
      ],
      "metadata": {
        "id": "MIi57dP8DUAs"
      },
      "execution_count": 80,
      "outputs": []
    },
    {
      "cell_type": "code",
      "source": [
        "# MLP Model\n",
        "class MLPModel(nn.Module):\n",
        "    def __init__(self, input_size):\n",
        "        super(MLPModel, self).__init__()\n",
        "        self.fc1 = nn.Linear(input_size, 64)\n",
        "        self.fc2 = nn.Linear(64, 32)\n",
        "        self.output = nn.Linear(32, 1)\n",
        "        self.relu = nn.ReLU()\n",
        "        self.sigmoid = nn.Sigmoid()\n",
        "\n",
        "    def forward(self, x):\n",
        "        x = self.relu(self.fc1(x))\n",
        "        x = self.relu(self.fc2(x))\n",
        "        x = self.sigmoid(self.output(x))\n",
        "        return x"
      ],
      "metadata": {
        "id": "tdwAKxtADX4o"
      },
      "execution_count": 81,
      "outputs": []
    },
    {
      "cell_type": "code",
      "source": [
        "# Function to train model\n",
        "def train_model(model, train_loader, criterion, optimizer, epochs=10):\n",
        "    model.train()\n",
        "    for epoch in range(epochs):\n",
        "        for X_batch, y_batch in train_loader:\n",
        "            outputs = model(X_batch)\n",
        "            loss = criterion(outputs, y_batch)\n",
        "            optimizer.zero_grad()\n",
        "            loss.backward()\n",
        "            optimizer.step()"
      ],
      "metadata": {
        "id": "_un4KxQmDaq4"
      },
      "execution_count": 82,
      "outputs": []
    },
    {
      "cell_type": "code",
      "source": [
        "# Function to evaluate model\n",
        "def evaluate_model(model, test_loader):\n",
        "    model.eval()\n",
        "    correct = 0\n",
        "    total = 0\n",
        "    with torch.no_grad():\n",
        "        for X_batch, y_batch in test_loader:\n",
        "            outputs = model(X_batch)\n",
        "            predicted = (outputs > 0.5).float()\n",
        "            total += y_batch.size(0)\n",
        "            correct += (predicted == y_batch).sum().item()\n",
        "    accuracy = correct / total\n",
        "    return accuracy"
      ],
      "metadata": {
        "id": "KMPyCqSWDcuc"
      },
      "execution_count": 83,
      "outputs": []
    },
    {
      "cell_type": "code",
      "source": [
        "# Learning rates to compare\n",
        "learning_rates = [10, 1, 0.1, 0.01, 0.001, 0.0001]\n",
        "input_size = X_train.shape[1]\n",
        "\n",
        "results = []\n",
        "\n",
        "for lr in learning_rates:\n",
        "    print(f\"Training model with learning rate {lr}...\")\n",
        "    model = MLPModel(input_size=input_size)\n",
        "    criterion = nn.BCELoss()\n",
        "    optimizer = optim.Adam(model.parameters(), lr=lr)\n",
        "\n",
        "    # Train model\n",
        "    train_model(model, train_loader, criterion, optimizer, epochs=10)\n",
        "\n",
        "    # Evaluate model\n",
        "    accuracy = evaluate_model(model, test_loader)\n",
        "    results.append((lr, accuracy))\n",
        "    print(f\"Accuracy with learning rate {lr}: {accuracy:.4f}\")"
      ],
      "metadata": {
        "colab": {
          "base_uri": "https://localhost:8080/"
        },
        "id": "-iAhHU4XDfFM",
        "outputId": "a2d8e2e0-5e8e-42b9-8bb4-15cb1bee09ee"
      },
      "execution_count": 84,
      "outputs": [
        {
          "output_type": "stream",
          "name": "stdout",
          "text": [
            "Training model with learning rate 10...\n",
            "Accuracy with learning rate 10: 0.6488\n",
            "Training model with learning rate 1...\n",
            "Accuracy with learning rate 1: 0.4976\n",
            "Training model with learning rate 0.1...\n",
            "Accuracy with learning rate 0.1: 0.8829\n",
            "Training model with learning rate 0.01...\n",
            "Accuracy with learning rate 0.01: 0.9122\n",
            "Training model with learning rate 0.001...\n",
            "Accuracy with learning rate 0.001: 0.8244\n",
            "Training model with learning rate 0.0001...\n",
            "Accuracy with learning rate 0.0001: 0.8146\n"
          ]
        }
      ]
    },
    {
      "cell_type": "code",
      "source": [
        "# Display results\n",
        "results_df = pd.DataFrame(results, columns=['Learning Rate', 'Accuracy'])\n",
        "print(\"\\nComparison Results:\")\n",
        "print(results_df)"
      ],
      "metadata": {
        "colab": {
          "base_uri": "https://localhost:8080/"
        },
        "id": "EZqOtmXVDkPv",
        "outputId": "3f52b9c6-cc44-470c-8d86-f27444eedb16"
      },
      "execution_count": 85,
      "outputs": [
        {
          "output_type": "stream",
          "name": "stdout",
          "text": [
            "\n",
            "Comparison Results:\n",
            "   Learning Rate  Accuracy\n",
            "0        10.0000  0.648780\n",
            "1         1.0000  0.497561\n",
            "2         0.1000  0.882927\n",
            "3         0.0100  0.912195\n",
            "4         0.0010  0.824390\n",
            "5         0.0001  0.814634\n"
          ]
        }
      ]
    },
    {
      "cell_type": "code",
      "source": [
        "# Save results to CSV\n",
        "results_df.to_csv('learning_rate_comparison_results.csv', index=False)"
      ],
      "metadata": {
        "id": "bKf8hjcUDoVc"
      },
      "execution_count": 86,
      "outputs": []
    },
    {
      "cell_type": "markdown",
      "source": [
        "### **prompt gpt:  Bandingkan Batch Size (16,32,64,128,256,512)**"
      ],
      "metadata": {
        "id": "xaLFKTwHDpGI"
      }
    },
    {
      "cell_type": "code",
      "source": [
        "# Preprocessing data\n",
        "X = data.drop(columns=['target']).values\n",
        "y = data['target'].values"
      ],
      "metadata": {
        "id": "6mg8XR-KDpVs"
      },
      "execution_count": 87,
      "outputs": []
    },
    {
      "cell_type": "code",
      "source": [
        "scaler = StandardScaler()\n",
        "X_scaled = scaler.fit_transform(X)"
      ],
      "metadata": {
        "id": "yhRZqoMcDwez"
      },
      "execution_count": 88,
      "outputs": []
    },
    {
      "cell_type": "code",
      "source": [
        "X_train, X_test, y_train, y_test = train_test_split(X_scaled, y, test_size=0.2, random_state=42)"
      ],
      "metadata": {
        "id": "j2gwpzCKDx3h"
      },
      "execution_count": 89,
      "outputs": []
    },
    {
      "cell_type": "code",
      "source": [
        "X_train_tensor = torch.tensor(X_train, dtype=torch.float32)\n",
        "X_test_tensor = torch.tensor(X_test, dtype=torch.float32)\n",
        "y_train_tensor = torch.tensor(y_train, dtype=torch.float32).view(-1, 1)\n",
        "y_test_tensor = torch.tensor(y_test, dtype=torch.float32).view(-1, 1)\n"
      ],
      "metadata": {
        "id": "-XKwL6IgDzdb"
      },
      "execution_count": 90,
      "outputs": []
    },
    {
      "cell_type": "code",
      "source": [
        "train_dataset = TensorDataset(X_train_tensor, y_train_tensor)\n",
        "test_dataset = TensorDataset(X_test_tensor, y_test_tensor)"
      ],
      "metadata": {
        "id": "1hZO0vZSD1fP"
      },
      "execution_count": 91,
      "outputs": []
    },
    {
      "cell_type": "code",
      "source": [
        "# MLP Model\n",
        "class MLPModel(nn.Module):\n",
        "    def __init__(self, input_size):\n",
        "        super(MLPModel, self).__init__()\n",
        "        self.fc1 = nn.Linear(input_size, 64)\n",
        "        self.fc2 = nn.Linear(64, 32)\n",
        "        self.output = nn.Linear(32, 1)\n",
        "        self.relu = nn.ReLU()\n",
        "        self.sigmoid = nn.Sigmoid()\n",
        "\n",
        "    def forward(self, x):\n",
        "        x = self.relu(self.fc1(x))\n",
        "        x = self.relu(self.fc2(x))\n",
        "        x = self.sigmoid(self.output(x))\n",
        "        return x\n"
      ],
      "metadata": {
        "id": "BmHPlPu2D232"
      },
      "execution_count": 92,
      "outputs": []
    },
    {
      "cell_type": "code",
      "source": [
        "# Function to train model\n",
        "def train_model(model, train_loader, criterion, optimizer, epochs=10):\n",
        "    model.train()\n",
        "    for epoch in range(epochs):\n",
        "        for X_batch, y_batch in train_loader:\n",
        "            outputs = model(X_batch)\n",
        "            loss = criterion(outputs, y_batch)\n",
        "            optimizer.zero_grad()\n",
        "            loss.backward()\n",
        "            optimizer.step()"
      ],
      "metadata": {
        "id": "6x3ktPDqD5Y3"
      },
      "execution_count": 93,
      "outputs": []
    },
    {
      "cell_type": "code",
      "source": [
        "# Function to evaluate model\n",
        "def evaluate_model(model, test_loader):\n",
        "    model.eval()\n",
        "    correct = 0\n",
        "    total = 0\n",
        "    with torch.no_grad():\n",
        "        for X_batch, y_batch in test_loader:\n",
        "            outputs = model(X_batch)\n",
        "            predicted = (outputs > 0.5).float()\n",
        "            total += y_batch.size(0)\n",
        "            correct += (predicted == y_batch).sum().item()\n",
        "    accuracy = correct / total\n",
        "    return accuracy"
      ],
      "metadata": {
        "id": "_yjfN4wHD8Qp"
      },
      "execution_count": 94,
      "outputs": []
    },
    {
      "cell_type": "code",
      "source": [
        "# Batch sizes to compare\n",
        "batch_sizes = [16, 32, 64, 128, 256, 512]\n",
        "input_size = X_train.shape[1]\n",
        "\n",
        "results = []\n",
        "\n",
        "for batch_size in batch_sizes:\n",
        "    print(f\"Training model with batch size {batch_size}...\")\n",
        "    train_loader = DataLoader(train_dataset, batch_size=batch_size, shuffle=True)\n",
        "    test_loader = DataLoader(test_dataset, batch_size=batch_size, shuffle=False)\n",
        "\n",
        "    model = MLPModel(input_size=input_size)\n",
        "    criterion = nn.BCELoss()\n",
        "    optimizer = optim.Adam(model.parameters(), lr=0.001)\n",
        "\n",
        "    # Train model\n",
        "    train_model(model, train_loader, criterion, optimizer, epochs=10)\n",
        "\n",
        "    # Evaluate model\n",
        "    accuracy = evaluate_model(model, test_loader)\n",
        "    results.append((batch_size, accuracy))\n",
        "    print(f\"Accuracy with batch size {batch_size}: {accuracy:.4f}\")"
      ],
      "metadata": {
        "colab": {
          "base_uri": "https://localhost:8080/"
        },
        "id": "wBQum0PXD-u0",
        "outputId": "247fad5c-1d9c-429a-f0f0-cac505dbc849"
      },
      "execution_count": 95,
      "outputs": [
        {
          "output_type": "stream",
          "name": "stdout",
          "text": [
            "Training model with batch size 16...\n",
            "Accuracy with batch size 16: 0.8780\n",
            "Training model with batch size 32...\n",
            "Accuracy with batch size 32: 0.8439\n",
            "Training model with batch size 64...\n",
            "Accuracy with batch size 64: 0.8000\n",
            "Training model with batch size 128...\n",
            "Accuracy with batch size 128: 0.7902\n",
            "Training model with batch size 256...\n",
            "Accuracy with batch size 256: 0.7902\n",
            "Training model with batch size 512...\n",
            "Accuracy with batch size 512: 0.7854\n"
          ]
        }
      ]
    },
    {
      "cell_type": "code",
      "source": [
        "# Display results\n",
        "results_df = pd.DataFrame(results, columns=['Batch Size', 'Accuracy'])\n",
        "print(\"\\nComparison Results:\")\n",
        "print(results_df)"
      ],
      "metadata": {
        "colab": {
          "base_uri": "https://localhost:8080/"
        },
        "id": "oaC3-eVpEDy0",
        "outputId": "5f2c506c-bb50-4213-a0f8-9a3580bc16d2"
      },
      "execution_count": 96,
      "outputs": [
        {
          "output_type": "stream",
          "name": "stdout",
          "text": [
            "\n",
            "Comparison Results:\n",
            "   Batch Size  Accuracy\n",
            "0          16  0.878049\n",
            "1          32  0.843902\n",
            "2          64  0.800000\n",
            "3         128  0.790244\n",
            "4         256  0.790244\n",
            "5         512  0.785366\n"
          ]
        }
      ]
    },
    {
      "cell_type": "code",
      "source": [
        "# Save results to CSV\n",
        "results_df.to_csv('batch_size_comparison_results.csv', index=False)"
      ],
      "metadata": {
        "id": "oN_ihImpEG17"
      },
      "execution_count": 98,
      "outputs": []
    }
  ]
}