{
  "nbformat": 4,
  "nbformat_minor": 0,
  "metadata": {
    "colab": {
      "provenance": [],
      "authorship_tag": "ABX9TyNdSfAIPbsm9KRTfzhl3ShB",
      "include_colab_link": true
    },
    "kernelspec": {
      "name": "python3",
      "display_name": "Python 3"
    },
    "language_info": {
      "name": "python"
    }
  },
  "cells": [
    {
      "cell_type": "markdown",
      "metadata": {
        "id": "view-in-github",
        "colab_type": "text"
      },
      "source": [
        "<a href=\"https://colab.research.google.com/github/Abi-Lowkey/MachineLearningTasks/blob/main/3rdWeekTasks/Regression_model_Decision_Tree_on_MaterialStrength.ipynb\" target=\"_parent\"><img src=\"https://colab.research.google.com/assets/colab-badge.svg\" alt=\"Open In Colab\"/></a>"
      ]
    },
    {
      "cell_type": "markdown",
      "source": [
        "Nama : Ketut Satria Wibisana\n",
        "\n",
        "NIM : 1103213148\n",
        "\n",
        "Lecture Week 3 : Regression model: Decision Tree dengan model regresi linear biasa dan regresi linear dengan basis fungsi lalu bandingkan hasilnya (RMSE,MSE,RSquared,etc)\n",
        "\n",
        "Dataset : MaterialStrength.csv\n",
        "\n",
        "Dokumentasi Chat GPT : [Link](https://chatgpt.com/share/670f8254-1e44-8005-9250-58339aac240c)"
      ],
      "metadata": {
        "id": "qT-GEMcFgo8o"
      }
    },
    {
      "cell_type": "markdown",
      "source": [
        "Prompt : Beri kode untuk connect gcolab dengan gdrive!"
      ],
      "metadata": {
        "id": "MMJO5JREk5Vh"
      }
    },
    {
      "cell_type": "code",
      "execution_count": 1,
      "metadata": {
        "colab": {
          "base_uri": "https://localhost:8080/"
        },
        "id": "AWH_TAsngl9F",
        "outputId": "721c9eff-de13-4cb0-fb71-0411ab67d555"
      },
      "outputs": [
        {
          "output_type": "stream",
          "name": "stdout",
          "text": [
            "Mounted at /content/drive\n"
          ]
        }
      ],
      "source": [
        "from google.colab import drive\n",
        "\n",
        "# Mount Google Drive ke Colab\n",
        "drive.mount('/content/drive')"
      ]
    },
    {
      "cell_type": "markdown",
      "source": [
        "Prompt: Beri kode untuk read dataset sebagai dataframe!\n"
      ],
      "metadata": {
        "id": "FCSFOhnBie9w"
      }
    },
    {
      "cell_type": "code",
      "source": [
        "# Import library yang diperlukan\n",
        "import pandas as pd\n",
        "import numpy as np\n",
        "from sklearn.model_selection import train_test_split\n",
        "from sklearn.tree import DecisionTreeRegressor\n",
        "from sklearn.linear_model import LinearRegression\n",
        "from sklearn.preprocessing import PolynomialFeatures, LabelEncoder\n",
        "from sklearn.metrics import mean_squared_error, r2_score"
      ],
      "metadata": {
        "id": "-Z4i-mG3h_m_"
      },
      "execution_count": 5,
      "outputs": []
    },
    {
      "cell_type": "code",
      "source": [
        "# Baca dataset CSV\n",
        "df = pd.read_csv('/content/drive/MyDrive/Dataset/MaterialStrength.csv')\n",
        "\n",
        "# Tampilkan beberapa baris awal\n",
        "print(df.head())\n"
      ],
      "metadata": {
        "colab": {
          "base_uri": "https://localhost:8080/"
        },
        "id": "KaNjJbLih_lz",
        "outputId": "f52e6cbd-dfad-4e0f-cde1-e25ec52d74ff"
      },
      "execution_count": 3,
      "outputs": [
        {
          "output_type": "stream",
          "name": "stdout",
          "text": [
            "      x1     x2   x3     x4   x5      x6     x7   x8        x9    x10  \\\n",
            "0  540.0    0.0  0.0  162.0  2.5  1040.0  676.0   28  0.300000  540.0   \n",
            "1  540.0    0.0  0.0  162.0  2.5  1055.0  676.0   28  0.300000  540.0   \n",
            "2  332.5  142.5  0.0  228.0  0.0   932.0  594.0  270  0.685714  475.0   \n",
            "3  332.5  142.5  0.0  228.0  0.0   932.0  594.0  365  0.685714  475.0   \n",
            "4  198.6  132.4  0.0  192.0  0.0   978.4  825.5  360  0.966767  331.0   \n",
            "\n",
            "        x11  x12       x13  x14  x15  target_feature  \n",
            "0  1.538462    1  0.350044  YEs   NO           79.99  \n",
            "1  1.560651    1  0.452416  yES  nOO           61.89  \n",
            "2  1.569024    0  6.704743  yEs   NO           40.27  \n",
            "3  1.569024    0  8.891596  yes  NOO           41.05  \n",
            "4  1.185221    0  8.126411  YeS   no           44.30  \n"
          ]
        }
      ]
    },
    {
      "cell_type": "code",
      "source": [
        "df.info()"
      ],
      "metadata": {
        "colab": {
          "base_uri": "https://localhost:8080/"
        },
        "id": "vYw_Cs3rjATq",
        "outputId": "77eff582-a1b9-48bb-c4bd-eedec75b234d"
      },
      "execution_count": 4,
      "outputs": [
        {
          "output_type": "stream",
          "name": "stdout",
          "text": [
            "<class 'pandas.core.frame.DataFrame'>\n",
            "RangeIndex: 1030 entries, 0 to 1029\n",
            "Data columns (total 16 columns):\n",
            " #   Column          Non-Null Count  Dtype  \n",
            "---  ------          --------------  -----  \n",
            " 0   x1              1030 non-null   float64\n",
            " 1   x2              1030 non-null   float64\n",
            " 2   x3              1030 non-null   float64\n",
            " 3   x4              1030 non-null   float64\n",
            " 4   x5              1030 non-null   float64\n",
            " 5   x6              1030 non-null   float64\n",
            " 6   x7              1030 non-null   float64\n",
            " 7   x8              1030 non-null   int64  \n",
            " 8   x9              1030 non-null   float64\n",
            " 9   x10             1030 non-null   float64\n",
            " 10  x11             1030 non-null   float64\n",
            " 11  x12             1030 non-null   int64  \n",
            " 12  x13             1030 non-null   float64\n",
            " 13  x14             1030 non-null   object \n",
            " 14  x15             1030 non-null   object \n",
            " 15  target_feature  1030 non-null   float64\n",
            "dtypes: float64(12), int64(2), object(2)\n",
            "memory usage: 128.9+ KB\n"
          ]
        }
      ]
    },
    {
      "cell_type": "markdown",
      "source": [
        "Prompt: saya mempunyai data dengan output df.head dan df.info seperti diatas,\n",
        "buatlah Regression model dengan  Decision Tree, lalu  Gunakan model regresi linear biasa dan regresi linear dengan basis fungsi lalu bandingkan hasilnya (RMSE,MSE,RSquared,etc)"
      ],
      "metadata": {
        "id": "T71dglGXlJkT"
      }
    },
    {
      "cell_type": "code",
      "source": [
        "# Encode kolom x14 dan x15 jika perlu\n",
        "label_encoder = LabelEncoder()\n",
        "df['x14_encoded'] = label_encoder.fit_transform(df['x14'])\n",
        "df['x15_encoded'] = label_encoder.fit_transform(df['x15'])"
      ],
      "metadata": {
        "id": "UUBV5jCYj0ux"
      },
      "execution_count": 6,
      "outputs": []
    },
    {
      "cell_type": "code",
      "source": [
        "# Pilih fitur dan target\n",
        "X = df.drop(['target_feature', 'x14', 'x15'], axis=1)\n",
        "y = df['target_feature']\n"
      ],
      "metadata": {
        "id": "YEVH1-Edj5U2"
      },
      "execution_count": 7,
      "outputs": []
    },
    {
      "cell_type": "code",
      "source": [
        "\n",
        "# === 2. Split Data === #\n",
        "X_train, X_test, y_train, y_test = train_test_split(X, y, test_size=0.2, random_state=42)\n"
      ],
      "metadata": {
        "id": "KnxxIanxkAfN"
      },
      "execution_count": 8,
      "outputs": []
    },
    {
      "cell_type": "code",
      "source": [
        "# === 3. Model: Decision Tree Regressor === #\n",
        "tree_model = DecisionTreeRegressor(random_state=42)\n",
        "tree_model.fit(X_train, y_train)\n",
        "y_pred_tree = tree_model.predict(X_test)"
      ],
      "metadata": {
        "id": "OU57nX4ekDbX"
      },
      "execution_count": 9,
      "outputs": []
    },
    {
      "cell_type": "code",
      "source": [
        "# === 4. Model: Linear Regression === #\n",
        "lin_reg = LinearRegression()\n",
        "lin_reg.fit(X_train, y_train)\n",
        "y_pred_lin = lin_reg.predict(X_test)"
      ],
      "metadata": {
        "id": "8YHUiOfGkHlQ"
      },
      "execution_count": 10,
      "outputs": []
    },
    {
      "cell_type": "code",
      "source": [
        "# === 5. Model: Polynomial Regression === #\n",
        "poly = PolynomialFeatures(degree=2)\n",
        "X_train_poly = poly.fit_transform(X_train)\n",
        "X_test_poly = poly.transform(X_test)\n",
        "\n",
        "poly_reg = LinearRegression()\n",
        "poly_reg.fit(X_train_poly, y_train)\n",
        "y_pred_poly = poly_reg.predict(X_test_poly)"
      ],
      "metadata": {
        "id": "9j24HOQykKRV"
      },
      "execution_count": 11,
      "outputs": []
    },
    {
      "cell_type": "code",
      "source": [
        "# === 6. Evaluasi Model === #\n",
        "def evaluate_model(y_test, y_pred, model_name):\n",
        "    mse = mean_squared_error(y_test, y_pred)\n",
        "    rmse = np.sqrt(mse)\n",
        "    r2 = r2_score(y_test, y_pred)\n",
        "    print(f\"{model_name}:\")\n",
        "    print(f\"  MSE: {mse:.4f}\")\n",
        "    print(f\"  RMSE: {rmse:.4f}\")\n",
        "    print(f\"  R² Score: {r2:.4f}\")\n",
        "    print(\"-\" * 30)\n"
      ],
      "metadata": {
        "id": "qN-PeF_hkLdB"
      },
      "execution_count": 12,
      "outputs": []
    },
    {
      "cell_type": "code",
      "source": [
        "# Evaluasi setiap model\n",
        "evaluate_model(y_test, y_pred_tree, \"Decision Tree Regressor\")\n",
        "evaluate_model(y_test, y_pred_lin, \"Linear Regression\")\n",
        "evaluate_model(y_test, y_pred_poly, \"Polynomial Regression (degree=2)\")"
      ],
      "metadata": {
        "colab": {
          "base_uri": "https://localhost:8080/"
        },
        "id": "IT_4jNNYkQbN",
        "outputId": "4eb94961-6cf2-4faa-9f4a-f6410d700016"
      },
      "execution_count": 13,
      "outputs": [
        {
          "output_type": "stream",
          "name": "stdout",
          "text": [
            "Decision Tree Regressor:\n",
            "  MSE: 20.9544\n",
            "  RMSE: 4.5776\n",
            "  R² Score: 0.9187\n",
            "------------------------------\n",
            "Linear Regression:\n",
            "  MSE: 75.4675\n",
            "  RMSE: 8.6872\n",
            "  R² Score: 0.7071\n",
            "------------------------------\n",
            "Polynomial Regression (degree=2):\n",
            "  MSE: 34.6860\n",
            "  RMSE: 5.8895\n",
            "  R² Score: 0.8654\n",
            "------------------------------\n"
          ]
        }
      ]
    }
  ]
}