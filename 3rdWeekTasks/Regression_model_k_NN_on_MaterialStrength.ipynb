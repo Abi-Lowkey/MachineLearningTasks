{
  "nbformat": 4,
  "nbformat_minor": 0,
  "metadata": {
    "colab": {
      "provenance": [],
      "authorship_tag": "ABX9TyN7vWtHfe4s7vA2cy3bgt7L",
      "include_colab_link": true
    },
    "kernelspec": {
      "name": "python3",
      "display_name": "Python 3"
    },
    "language_info": {
      "name": "python"
    }
  },
  "cells": [
    {
      "cell_type": "markdown",
      "metadata": {
        "id": "view-in-github",
        "colab_type": "text"
      },
      "source": [
        "<a href=\"https://colab.research.google.com/github/Abi-Lowkey/MachineLearningTasks/blob/main/3rdWeekTasks/Regression_model_k_NN_on_MaterialStrength.ipynb\" target=\"_parent\"><img src=\"https://colab.research.google.com/assets/colab-badge.svg\" alt=\"Open In Colab\"/></a>"
      ]
    },
    {
      "cell_type": "markdown",
      "source": [
        "Nama : Ketut Satria Wibisana\n",
        "\n",
        "NIM : 1103213148\n",
        "\n",
        "Lecture Week 3 : Regression model: k-NN dengan model regresi linear biasa dan regresi linear dengan basis fungsi lalu bandingkan hasilnya (RMSE,MSE,RSquared,etc)\n",
        "\n",
        "Dataset : MaterialStrength.csv\n",
        "\n",
        "Dokumentasi Chat GPT : [Link](https://chatgpt.com/share/670f8695-22cc-8005-af29-a40d3d2d5c41)"
      ],
      "metadata": {
        "id": "coVJu1fPl2jI"
      }
    },
    {
      "cell_type": "markdown",
      "source": [
        "Prompt : Beri kode untuk connect gcolab dengan gdrive!"
      ],
      "metadata": {
        "id": "CtFAeOBlmB8M"
      }
    },
    {
      "cell_type": "code",
      "execution_count": 1,
      "metadata": {
        "colab": {
          "base_uri": "https://localhost:8080/"
        },
        "id": "IwEUK-WBlwmW",
        "outputId": "89500668-fbde-44d1-e646-9849b0f197b2"
      },
      "outputs": [
        {
          "output_type": "stream",
          "name": "stdout",
          "text": [
            "Mounted at /content/drive\n"
          ]
        }
      ],
      "source": [
        "from google.colab import drive\n",
        "\n",
        "# Mount Google Drive ke Colab\n",
        "drive.mount('/content/drive')"
      ]
    },
    {
      "cell_type": "markdown",
      "source": [
        "Prompt: Beri kode untuk read dataset sebagai dataframe!"
      ],
      "metadata": {
        "id": "IwuULkctmlGi"
      }
    },
    {
      "cell_type": "code",
      "source": [
        "# Import library yang diperlukan\n",
        "import pandas as pd\n",
        "import numpy as np\n",
        "from sklearn.model_selection import train_test_split\n",
        "from sklearn.preprocessing import StandardScaler, PolynomialFeatures, LabelEncoder\n",
        "from sklearn.neighbors import KNeighborsRegressor\n",
        "from sklearn.linear_model import LinearRegression\n",
        "from sklearn.metrics import mean_squared_error, r2_score"
      ],
      "metadata": {
        "id": "TOS1-q_smli0"
      },
      "execution_count": 6,
      "outputs": []
    },
    {
      "cell_type": "code",
      "source": [
        "# Baca dataset CSV\n",
        "df = pd.read_csv('/content/drive/MyDrive/Dataset/MaterialStrength.csv')\n",
        "\n",
        "# Tampilkan beberapa baris awal\n",
        "print(df.head())\n"
      ],
      "metadata": {
        "colab": {
          "base_uri": "https://localhost:8080/"
        },
        "id": "qyog-SPlmrAn",
        "outputId": "cf04294a-db44-4efc-8008-7444cc844c99"
      },
      "execution_count": 3,
      "outputs": [
        {
          "output_type": "stream",
          "name": "stdout",
          "text": [
            "      x1     x2   x3     x4   x5      x6     x7   x8        x9    x10  \\\n",
            "0  540.0    0.0  0.0  162.0  2.5  1040.0  676.0   28  0.300000  540.0   \n",
            "1  540.0    0.0  0.0  162.0  2.5  1055.0  676.0   28  0.300000  540.0   \n",
            "2  332.5  142.5  0.0  228.0  0.0   932.0  594.0  270  0.685714  475.0   \n",
            "3  332.5  142.5  0.0  228.0  0.0   932.0  594.0  365  0.685714  475.0   \n",
            "4  198.6  132.4  0.0  192.0  0.0   978.4  825.5  360  0.966767  331.0   \n",
            "\n",
            "        x11  x12       x13  x14  x15  target_feature  \n",
            "0  1.538462    1  0.350044  YEs   NO           79.99  \n",
            "1  1.560651    1  0.452416  yES  nOO           61.89  \n",
            "2  1.569024    0  6.704743  yEs   NO           40.27  \n",
            "3  1.569024    0  8.891596  yes  NOO           41.05  \n",
            "4  1.185221    0  8.126411  YeS   no           44.30  \n"
          ]
        }
      ]
    },
    {
      "cell_type": "code",
      "source": [
        "df.info()"
      ],
      "metadata": {
        "colab": {
          "base_uri": "https://localhost:8080/"
        },
        "id": "-b0LVmXRmtYS",
        "outputId": "d9095dbe-f8ff-4134-b459-05545c902982"
      },
      "execution_count": 4,
      "outputs": [
        {
          "output_type": "stream",
          "name": "stdout",
          "text": [
            "<class 'pandas.core.frame.DataFrame'>\n",
            "RangeIndex: 1030 entries, 0 to 1029\n",
            "Data columns (total 16 columns):\n",
            " #   Column          Non-Null Count  Dtype  \n",
            "---  ------          --------------  -----  \n",
            " 0   x1              1030 non-null   float64\n",
            " 1   x2              1030 non-null   float64\n",
            " 2   x3              1030 non-null   float64\n",
            " 3   x4              1030 non-null   float64\n",
            " 4   x5              1030 non-null   float64\n",
            " 5   x6              1030 non-null   float64\n",
            " 6   x7              1030 non-null   float64\n",
            " 7   x8              1030 non-null   int64  \n",
            " 8   x9              1030 non-null   float64\n",
            " 9   x10             1030 non-null   float64\n",
            " 10  x11             1030 non-null   float64\n",
            " 11  x12             1030 non-null   int64  \n",
            " 12  x13             1030 non-null   float64\n",
            " 13  x14             1030 non-null   object \n",
            " 14  x15             1030 non-null   object \n",
            " 15  target_feature  1030 non-null   float64\n",
            "dtypes: float64(12), int64(2), object(2)\n",
            "memory usage: 128.9+ KB\n"
          ]
        }
      ]
    },
    {
      "cell_type": "markdown",
      "source": [
        "Prompt: saya mempunyai data dengan output df.head dan df.info seperti diatas, buatlah Regression model dengan k-NN, lalu Gunakan model regresi linear biasa dan regresi linear dengan basis fungsi lalu bandingkan hasilnya (RMSE,MSE,RSquared,etc)"
      ],
      "metadata": {
        "id": "lGBByXH7m5bh"
      }
    },
    {
      "cell_type": "code",
      "source": [
        "# 1. Preprocessing Data\n",
        "# Mengubah kolom kategorikal menjadi numerik dengan LabelEncoder\n",
        "label_encoder = LabelEncoder()\n",
        "df['x14'] = label_encoder.fit_transform(df['x14'])\n",
        "df['x15'] = label_encoder.fit_transform(df['x15'])"
      ],
      "metadata": {
        "id": "y42BOrarn6_2"
      },
      "execution_count": 7,
      "outputs": []
    },
    {
      "cell_type": "code",
      "source": [
        "# Pisahkan feature dan target\n",
        "X = df.drop(columns='target_feature')\n",
        "y = df['target_feature']"
      ],
      "metadata": {
        "id": "dpV-W706n_lO"
      },
      "execution_count": 8,
      "outputs": []
    },
    {
      "cell_type": "code",
      "source": [
        "# 2. Membagi data menjadi train dan test (80% train, 20% test)\n",
        "X_train, X_test, y_train, y_test = train_test_split(X, y, test_size=0.2, random_state=42)"
      ],
      "metadata": {
        "id": "po7BxBVAoEnV"
      },
      "execution_count": 9,
      "outputs": []
    },
    {
      "cell_type": "code",
      "source": [
        "# Standarisasi fitur agar distribusi data seragam\n",
        "scaler = StandardScaler()\n",
        "X_train = scaler.fit_transform(X_train)\n",
        "X_test = scaler.transform(X_test)"
      ],
      "metadata": {
        "id": "rsRJ_Y77oPNd"
      },
      "execution_count": 11,
      "outputs": []
    },
    {
      "cell_type": "code",
      "source": [
        "# 3. Pembangunan Model dan Evaluasi\n",
        "\n",
        "# Model 1: k-NN Regressor\n",
        "knn = KNeighborsRegressor(n_neighbors=5)\n",
        "knn.fit(X_train, y_train)\n",
        "y_pred_knn = knn.predict(X_test)"
      ],
      "metadata": {
        "id": "xSys8Zfdoa0m"
      },
      "execution_count": 12,
      "outputs": []
    },
    {
      "cell_type": "code",
      "source": [
        "\n",
        "# Model 2: Linear Regression\n",
        "linear_model = LinearRegression()\n",
        "linear_model.fit(X_train, y_train)\n",
        "y_pred_linear = linear_model.predict(X_test)"
      ],
      "metadata": {
        "id": "S1dj9GYmoeFa"
      },
      "execution_count": 13,
      "outputs": []
    },
    {
      "cell_type": "code",
      "source": [
        "# Model 3: Polynomial Regression (basis fungsi, derajat=2)\n",
        "poly = PolynomialFeatures(degree=2)\n",
        "X_train_poly = poly.fit_transform(X_train)\n",
        "X_test_poly = poly.transform(X_test)\n",
        "\n",
        "poly_model = LinearRegression()\n",
        "poly_model.fit(X_train_poly, y_train)\n",
        "y_pred_poly = poly_model.predict(X_test_poly)"
      ],
      "metadata": {
        "id": "1qyTAG-uogz0"
      },
      "execution_count": 14,
      "outputs": []
    },
    {
      "cell_type": "code",
      "source": [
        "# 4. Evaluasi Model\n",
        "def evaluate_model(y_test, y_pred, model_name):\n",
        "    mse = mean_squared_error(y_test, y_pred)\n",
        "    rmse = np.sqrt(mse)\n",
        "    r2 = r2_score(y_test, y_pred)\n",
        "    print(f\"{model_name} Performance:\")\n",
        "    print(f\"MSE: {mse:.4f}, RMSE: {rmse:.4f}, R²: {r2:.4f}\\n\")"
      ],
      "metadata": {
        "id": "YPjwU1F1ok24"
      },
      "execution_count": 15,
      "outputs": []
    },
    {
      "cell_type": "code",
      "source": [
        "# Evaluasi k-NN\n",
        "evaluate_model(y_test, y_pred_knn, \"k-NN Regressor\")\n",
        "\n",
        "# Evaluasi Linear Regression\n",
        "evaluate_model(y_test, y_pred_linear, \"Linear Regression\")\n",
        "\n",
        "# Evaluasi Polynomial Regression\n",
        "evaluate_model(y_test, y_pred_poly, \"Polynomial Regression (Degree=2)\")"
      ],
      "metadata": {
        "colab": {
          "base_uri": "https://localhost:8080/"
        },
        "id": "T6-CrL45onvw",
        "outputId": "b8aa0db8-654c-4cca-c463-ca719d010c0c"
      },
      "execution_count": 16,
      "outputs": [
        {
          "output_type": "stream",
          "name": "stdout",
          "text": [
            "k-NN Regressor Performance:\n",
            "MSE: 101.2612, RMSE: 10.0629, R²: 0.6070\n",
            "\n",
            "Linear Regression Performance:\n",
            "MSE: 75.4675, RMSE: 8.6872, R²: 0.7071\n",
            "\n",
            "Polynomial Regression (Degree=2) Performance:\n",
            "MSE: 44.4214, RMSE: 6.6649, R²: 0.8276\n",
            "\n"
          ]
        }
      ]
    }
  ]
}