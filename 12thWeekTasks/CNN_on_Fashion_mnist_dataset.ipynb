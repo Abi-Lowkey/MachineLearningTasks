{
  "nbformat": 4,
  "nbformat_minor": 0,
  "metadata": {
    "colab": {
      "provenance": [],
      "gpuType": "T4",
      "include_colab_link": true
    },
    "kernelspec": {
      "name": "python3",
      "display_name": "Python 3"
    },
    "language_info": {
      "name": "python"
    },
    "accelerator": "GPU"
  },
  "cells": [
    {
      "cell_type": "markdown",
      "metadata": {
        "id": "view-in-github",
        "colab_type": "text"
      },
      "source": [
        "<a href=\"https://colab.research.google.com/github/Abi-Lowkey/MachineLearningTasks/blob/main/12thWeekTasks/CNN_on_Fashion_mnist_dataset.ipynb\" target=\"_parent\"><img src=\"https://colab.research.google.com/assets/colab-badge.svg\" alt=\"Open In Colab\"/></a>"
      ]
    },
    {
      "cell_type": "code",
      "execution_count": 1,
      "metadata": {
        "colab": {
          "base_uri": "https://localhost:8080/"
        },
        "id": "q_2SUuD6V5cn",
        "outputId": "c4671122-9087-415a-ca68-893a582f6232"
      },
      "outputs": [
        {
          "output_type": "stream",
          "name": "stdout",
          "text": [
            "Requirement already satisfied: kagglehub in /usr/local/lib/python3.11/dist-packages (0.3.6)\n",
            "Requirement already satisfied: packaging in /usr/local/lib/python3.11/dist-packages (from kagglehub) (24.2)\n",
            "Requirement already satisfied: requests in /usr/local/lib/python3.11/dist-packages (from kagglehub) (2.32.3)\n",
            "Requirement already satisfied: tqdm in /usr/local/lib/python3.11/dist-packages (from kagglehub) (4.67.1)\n",
            "Requirement already satisfied: charset-normalizer<4,>=2 in /usr/local/lib/python3.11/dist-packages (from requests->kagglehub) (3.4.1)\n",
            "Requirement already satisfied: idna<4,>=2.5 in /usr/local/lib/python3.11/dist-packages (from requests->kagglehub) (3.10)\n",
            "Requirement already satisfied: urllib3<3,>=1.21.1 in /usr/local/lib/python3.11/dist-packages (from requests->kagglehub) (2.3.0)\n",
            "Requirement already satisfied: certifi>=2017.4.17 in /usr/local/lib/python3.11/dist-packages (from requests->kagglehub) (2024.12.14)\n"
          ]
        }
      ],
      "source": [
        "pip install kagglehub\n"
      ]
    },
    {
      "cell_type": "code",
      "source": [
        "import torch\n",
        "import torch.nn as nn\n",
        "import torch.optim as optim\n",
        "from torch.utils.data import DataLoader\n",
        "from torchvision import datasets, transforms\n",
        "from torch.optim.lr_scheduler import StepLR\n",
        "from torch.utils.tensorboard import SummaryWriter\n",
        "from sklearn.metrics import accuracy_score\n",
        "import kagglehub\n",
        "\n",
        "# Download dataset from Kaggle\n",
        "path = kagglehub.dataset_download(\"zalando-research/fashionmnist\")\n",
        "print(\"Path to dataset files:\", path)\n",
        "\n",
        "# Define transformations\n",
        "transform = transforms.Compose([\n",
        "    transforms.ToTensor(),\n",
        "    transforms.Normalize((0.5,), (0.5,))\n",
        "])\n",
        "\n",
        "# Load FashionMNIST dataset\n",
        "train_dataset = datasets.FashionMNIST(root=path, train=True, download=True, transform=transform)\n",
        "test_dataset = datasets.FashionMNIST(root=path, train=False, download=True, transform=transform)\n",
        "\n",
        "train_loader = DataLoader(train_dataset, batch_size=32, shuffle=True)\n",
        "test_loader = DataLoader(test_dataset, batch_size=32, shuffle=False)\n",
        "\n",
        "# Define CNN model\n",
        "class CNNModel(nn.Module):\n",
        "    def __init__(self, kernel_size, pool_type):\n",
        "        super(CNNModel, self).__init__()\n",
        "        self.conv1 = nn.Conv2d(1, 32, kernel_size=kernel_size, padding=1)\n",
        "        self.pool = nn.MaxPool2d(2, 2) if pool_type == 'max' else nn.AvgPool2d(2, 2)\n",
        "        self.conv2 = nn.Conv2d(32, 64, kernel_size=kernel_size, padding=1)\n",
        "        self.fc1 = nn.Linear(64 * (28 // (2 ** 2)) * (28 // (2 ** 2)), 128)\n",
        "        self.fc2 = nn.Linear(128, 10)  # FashionMNIST has 10 classes\n",
        "\n",
        "    def forward(self, x):\n",
        "        x = self.pool(F.relu(self.conv1(x)))\n",
        "        x = self.pool(F.relu(self.conv2(x)))\n",
        "        x = x.view(-1, 64 * (28 // (2 ** 2)) * (28 // (2 ** 2)))\n",
        "        x = F.relu(self.fc1(x))\n",
        "        x = self.fc2(x)\n",
        "        return x\n",
        "\n",
        "# Training function\n",
        "def train_model(model, train_loader, criterion, optimizer, scheduler, writer, epochs, early_stopping_patience):\n",
        "    model.train()\n",
        "    best_loss = float('inf')\n",
        "    early_stopping_counter = 0\n",
        "\n",
        "    for epoch in range(epochs):\n",
        "        running_loss = 0.0\n",
        "        for inputs, labels in train_loader:\n",
        "            optimizer.zero_grad()\n",
        "            outputs = model(inputs)\n",
        "            loss = criterion(outputs, labels)\n",
        "            loss.backward()\n",
        "            optimizer.step()\n",
        "            running_loss += loss.item()\n",
        "\n",
        "        scheduler.step()\n",
        "        avg_loss = running_loss / len(train_loader)\n",
        "        writer.add_scalar('Loss/train', avg_loss, epoch)\n",
        "        print(f'Epoch {epoch+1}/{epochs}, Loss: {avg_loss:.4f}')\n",
        "\n",
        "        if avg_loss < best_loss:\n",
        "            best_loss = avg_loss\n",
        "            early_stopping_counter = 0\n",
        "        else:\n",
        "            early_stopping_counter += 1\n",
        "            if early_stopping_counter >= early_stopping_patience:\n",
        "                print(\"Early stopping triggered.\")\n",
        "                break\n",
        "\n",
        "# Evaluation function\n",
        "def evaluate_model(model, test_loader):\n",
        "    model.eval()\n",
        "    correct = 0\n",
        "    total = 0\n",
        "    with torch.no_grad():\n",
        "        for inputs, labels in test_loader:\n",
        "            outputs = model(inputs)\n",
        "            _, predicted = torch.max(outputs.data, 1)\n",
        "            total += labels.size(0)\n",
        "            correct += (predicted == labels).sum().item()\n",
        "    accuracy = correct / total\n",
        "    return accuracy\n",
        "\n",
        "# Main function\n",
        "def main():\n",
        "    kernel_sizes = [3, 5, 7]\n",
        "    pool_types = ['max', 'avg']\n",
        "    epochs_list = [5, 50, 100, 250, 350]\n",
        "    optimizers = ['SGD', 'RMSprop', 'Adam']\n",
        "\n",
        "    for kernel_size in kernel_sizes:\n",
        "        for pool_type in pool_types:\n",
        "            for epochs in epochs_list:\n",
        "                for optimizer_name in optimizers:\n",
        "                    model = CNNModel(kernel_size, pool_type)\n",
        "                    criterion = nn.CrossEntropyLoss()\n",
        "                    if optimizer_name == 'SGD':\n",
        "                        optimizer = optim.SGD(model.parameters(), lr=0.01, momentum=0.9)\n",
        "                    elif optimizer_name == 'RMSprop':\n",
        "                        optimizer = optim.RMSprop(model.parameters(), lr=0.001, alpha=0.99)\n",
        "                    elif optimizer_name == 'Adam':\n",
        "                        optimizer = optim.Adam(model.parameters(), lr=0.001)\n",
        "\n",
        "                    scheduler = StepLR(optimizer, step_size=20, gamma=0.1)\n",
        "                    writer = SummaryWriter(f'runs/kernel_{kernel_size}_pool_{pool_type}_epochs_{epochs}_optimizer_{optimizer_name}')\n",
        "\n",
        "                    print(f'Training with kernel_size={kernel_size}, pool_type={pool_type}, epochs={epochs}, optimizer={optimizer_name}')\n",
        "                    train_model(model, train_loader, criterion, optimizer, scheduler, writer, epochs, early_stopping_patience=10)\n",
        "                    accuracy = evaluate_model(model, test_loader)\n",
        "                    print(f'Accuracy: {accuracy:.4f}')\n",
        "                    writer.add_scalar('Accuracy/test', accuracy, epochs)\n",
        "                    writer.close()\n",
        "\n",
        "if __name__ == '__main__':\n",
        "    import torch.nn.functional as F  # Impor F di sini\n",
        "    main()\n"
      ],
      "metadata": {
        "colab": {
          "base_uri": "https://localhost:8080/"
        },
        "id": "3ovBA00oWGUg",
        "outputId": "dbd2083a-19d5-4bfc-804d-aa1da3daf61f"
      },
      "execution_count": null,
      "outputs": [
        {
          "output_type": "stream",
          "name": "stdout",
          "text": [
            "Downloading from https://www.kaggle.com/api/v1/datasets/download/zalando-research/fashionmnist?dataset_version_number=4...\n"
          ]
        },
        {
          "output_type": "stream",
          "name": "stderr",
          "text": [
            "100%|██████████| 68.8M/68.8M [00:04<00:00, 17.5MB/s]"
          ]
        },
        {
          "output_type": "stream",
          "name": "stdout",
          "text": [
            "Extracting files...\n"
          ]
        },
        {
          "output_type": "stream",
          "name": "stderr",
          "text": [
            "\n"
          ]
        },
        {
          "output_type": "stream",
          "name": "stdout",
          "text": [
            "Path to dataset files: /root/.cache/kagglehub/datasets/zalando-research/fashionmnist/versions/4\n",
            "Downloading http://fashion-mnist.s3-website.eu-central-1.amazonaws.com/train-images-idx3-ubyte.gz\n",
            "Downloading http://fashion-mnist.s3-website.eu-central-1.amazonaws.com/train-images-idx3-ubyte.gz to /root/.cache/kagglehub/datasets/zalando-research/fashionmnist/versions/4/FashionMNIST/raw/train-images-idx3-ubyte.gz\n"
          ]
        },
        {
          "output_type": "stream",
          "name": "stderr",
          "text": [
            "100%|██████████| 26.4M/26.4M [00:02<00:00, 10.8MB/s]\n"
          ]
        },
        {
          "output_type": "stream",
          "name": "stdout",
          "text": [
            "Extracting /root/.cache/kagglehub/datasets/zalando-research/fashionmnist/versions/4/FashionMNIST/raw/train-images-idx3-ubyte.gz to /root/.cache/kagglehub/datasets/zalando-research/fashionmnist/versions/4/FashionMNIST/raw\n",
            "\n",
            "Downloading http://fashion-mnist.s3-website.eu-central-1.amazonaws.com/train-labels-idx1-ubyte.gz\n",
            "Downloading http://fashion-mnist.s3-website.eu-central-1.amazonaws.com/train-labels-idx1-ubyte.gz to /root/.cache/kagglehub/datasets/zalando-research/fashionmnist/versions/4/FashionMNIST/raw/train-labels-idx1-ubyte.gz\n"
          ]
        },
        {
          "output_type": "stream",
          "name": "stderr",
          "text": [
            "100%|██████████| 29.5k/29.5k [00:00<00:00, 183kB/s]\n"
          ]
        },
        {
          "output_type": "stream",
          "name": "stdout",
          "text": [
            "Extracting /root/.cache/kagglehub/datasets/zalando-research/fashionmnist/versions/4/FashionMNIST/raw/train-labels-idx1-ubyte.gz to /root/.cache/kagglehub/datasets/zalando-research/fashionmnist/versions/4/FashionMNIST/raw\n",
            "\n",
            "Downloading http://fashion-mnist.s3-website.eu-central-1.amazonaws.com/t10k-images-idx3-ubyte.gz\n",
            "Downloading http://fashion-mnist.s3-website.eu-central-1.amazonaws.com/t10k-images-idx3-ubyte.gz to /root/.cache/kagglehub/datasets/zalando-research/fashionmnist/versions/4/FashionMNIST/raw/t10k-images-idx3-ubyte.gz\n"
          ]
        },
        {
          "output_type": "stream",
          "name": "stderr",
          "text": [
            "100%|██████████| 4.42M/4.42M [00:01<00:00, 3.24MB/s]\n"
          ]
        },
        {
          "output_type": "stream",
          "name": "stdout",
          "text": [
            "Extracting /root/.cache/kagglehub/datasets/zalando-research/fashionmnist/versions/4/FashionMNIST/raw/t10k-images-idx3-ubyte.gz to /root/.cache/kagglehub/datasets/zalando-research/fashionmnist/versions/4/FashionMNIST/raw\n",
            "\n",
            "Downloading http://fashion-mnist.s3-website.eu-central-1.amazonaws.com/t10k-labels-idx1-ubyte.gz\n",
            "Downloading http://fashion-mnist.s3-website.eu-central-1.amazonaws.com/t10k-labels-idx1-ubyte.gz to /root/.cache/kagglehub/datasets/zalando-research/fashionmnist/versions/4/FashionMNIST/raw/t10k-labels-idx1-ubyte.gz\n"
          ]
        },
        {
          "output_type": "stream",
          "name": "stderr",
          "text": [
            "100%|██████████| 5.15k/5.15k [00:00<00:00, 8.30MB/s]\n"
          ]
        },
        {
          "output_type": "stream",
          "name": "stdout",
          "text": [
            "Extracting /root/.cache/kagglehub/datasets/zalando-research/fashionmnist/versions/4/FashionMNIST/raw/t10k-labels-idx1-ubyte.gz to /root/.cache/kagglehub/datasets/zalando-research/fashionmnist/versions/4/FashionMNIST/raw\n",
            "\n",
            "Training with kernel_size=3, pool_type=max, epochs=5, optimizer=SGD\n",
            "Epoch 1/5, Loss: 0.4596\n",
            "Epoch 2/5, Loss: 0.2811\n",
            "Epoch 3/5, Loss: 0.2363\n",
            "Epoch 4/5, Loss: 0.2053\n",
            "Epoch 5/5, Loss: 0.1821\n",
            "Accuracy: 0.9179\n",
            "Training with kernel_size=3, pool_type=max, epochs=5, optimizer=RMSprop\n",
            "Epoch 1/5, Loss: 0.3932\n",
            "Epoch 2/5, Loss: 0.2491\n",
            "Epoch 3/5, Loss: 0.2057\n",
            "Epoch 4/5, Loss: 0.1758\n",
            "Epoch 5/5, Loss: 0.1516\n",
            "Accuracy: 0.9164\n",
            "Training with kernel_size=3, pool_type=max, epochs=5, optimizer=Adam\n",
            "Epoch 1/5, Loss: 0.3945\n",
            "Epoch 2/5, Loss: 0.2573\n",
            "Epoch 3/5, Loss: 0.2089\n",
            "Epoch 4/5, Loss: 0.1758\n",
            "Epoch 5/5, Loss: 0.1479\n",
            "Accuracy: 0.9201\n",
            "Training with kernel_size=3, pool_type=max, epochs=50, optimizer=SGD\n",
            "Epoch 1/50, Loss: 0.4642\n",
            "Epoch 2/50, Loss: 0.2863\n",
            "Epoch 3/50, Loss: 0.2385\n",
            "Epoch 4/50, Loss: 0.2065\n",
            "Epoch 5/50, Loss: 0.1843\n",
            "Epoch 6/50, Loss: 0.1635\n",
            "Epoch 7/50, Loss: 0.1456\n",
            "Epoch 8/50, Loss: 0.1282\n",
            "Epoch 9/50, Loss: 0.1115\n",
            "Epoch 10/50, Loss: 0.0995\n",
            "Epoch 11/50, Loss: 0.0870\n",
            "Epoch 12/50, Loss: 0.0756\n",
            "Epoch 13/50, Loss: 0.0660\n",
            "Epoch 14/50, Loss: 0.0575\n",
            "Epoch 15/50, Loss: 0.0509\n",
            "Epoch 16/50, Loss: 0.0445\n",
            "Epoch 17/50, Loss: 0.0399\n",
            "Epoch 18/50, Loss: 0.0326\n",
            "Epoch 19/50, Loss: 0.0334\n",
            "Epoch 20/50, Loss: 0.0302\n"
          ]
        }
      ]
    }
  ]
}